{
 "cells": [
  {
   "cell_type": "markdown",
   "metadata": {},
   "source": [
    "# HW 06: ETLs y ELTs on MBanco de Mexico and INEGI\n",
    "\n",
    "## Introducción\n",
    "\n",
    "\n",
    "## Objetivo\n",
    "\n",
    "* Mostrar cómo se crea un ETL\n",
    "* Mostrar cómo se crea un ELT\n",
    "* Mostrar cómo se utilizan los servicios Amazon S3, AWS Glue y Amazon Athena \n",
    "para tareas de ingeniería de datos y analítica.\n",
    "\n",
    "## Herramientas que aprenderas a utilizar:\n",
    "\n",
    "#"
   ]
  },
  {
   "cell_type": "code",
   "execution_count": 27,
   "metadata": {},
   "outputs": [],
   "source": [
    "# Importar librerías\n",
    "import os\n",
    "import pandas as pd\n",
    "import numpy as np\n",
    "\n",
    "import requests\n",
    "import json\n",
    "from sie_banxico import SIEBanxico"
   ]
  },
  {
   "attachments": {},
   "cell_type": "markdown",
   "metadata": {},
   "source": [
    "# ELT\n",
    "\n",
    "Ahora que ya subimos los datos al data lake, podemos utilizarlos para hacer\n",
    "nuestros análisis o aplicaciones.\n",
    "\n",
    "En esta sección vamos a utilizar Amazon Athena para hacer transformaciones a \n",
    "nuestros datos crudos y cargarlos en nuestro ambiente de Python local para \n",
    "hacer los análisis que necesitemos.\n",
    "\n",
    "Para poder utilizar Amazon Athena, por primera vez, tenemos que configurar un\n",
    "bucket en Amazon S3 donde se puedan guardar nuestras queries. Esto lo podemos\n",
    "hacer siguiendo estas instrucciones:\n",
    "\n",
    "* [Specifying a query result location using the Athena console](https://docs.aws.amazon.com/athena/latest/ug/querying.html#query-results-specify-location-console)\n",
    "\n",
    "Este paso lo tenemos que hacer una sola vez.\n",
    "\n",
    "Una vez configurado, para usar nuestros datos en Amazon Athena, lo que tenemos\n",
    "que hacer es crear una base de datos en AWS Glue Catalog, que lo que hace es\n",
    "llevar un catálogo de todas las tablas que tenemos en data lake, y que podemos\n",
    "utilizar rápidamente con otros servicios en la nube.\n",
    "\n",
    "Después solo tenemos que crear el schema de las tablas y agregarlas a la base \n",
    "de datos que creamos. Una vez hecho esto podemos realizar las operaciones en\n",
    "SQL sobre nuestros datos.\n"
   ]
  },
  {
   "cell_type": "code",
   "execution_count": 29,
   "metadata": {},
   "outputs": [
    {
     "name": "stderr",
     "output_type": "stream",
     "text": [
      "/tmp/ipykernel_69893/4252367747.py:11: FutureWarning: A value is trying to be set on a copy of a DataFrame or Series through chained assignment using an inplace method.\n",
      "The behavior will change in pandas 3.0. This inplace method will never work because the intermediate object on which we are setting values always behaves as a copy.\n",
      "\n",
      "For example, when doing 'df[col].method(value, inplace=True)', try using 'df.method({col: value}, inplace=True)' or df[col] = df[col].method(value) instead, to perform the operation inplace on the original object.\n",
      "\n",
      "\n",
      "  df_merged['interes_rate'].fillna(df_merged['interes_rate'].mean(), inplace=True)\n",
      "/tmp/ipykernel_69893/4252367747.py:12: FutureWarning: A value is trying to be set on a copy of a DataFrame or Series through chained assignment using an inplace method.\n",
      "The behavior will change in pandas 3.0. This inplace method will never work because the intermediate object on which we are setting values always behaves as a copy.\n",
      "\n",
      "For example, when doing 'df[col].method(value, inplace=True)', try using 'df.method({col: value}, inplace=True)' or df[col] = df[col].method(value) instead, to perform the operation inplace on the original object.\n",
      "\n",
      "\n",
      "  df_merged['exchange_rate'].fillna(df_merged['exchange_rate'].mean(), inplace=True)\n"
     ]
    }
   ],
   "source": [
    "# Load the CSV files into pandas dataframes\n",
    "df_inflation = pd.read_csv('../../data/processed/inflation.csv')\n",
    "df_tasa_de_interes = pd.read_csv('../../data/processed/tasa_de_interes.csv')\n",
    "df_tipo_de_cambio = pd.read_csv('../../data/processed/tipo_de_cambio.csv')\n",
    "\n",
    "# Merge the dataframes on the 'period' column\n",
    "df_merged = df_inflation.merge(df_tasa_de_interes, on='period', how='left')\n",
    "df_merged = df_merged.merge(df_tipo_de_cambio, on='period', how='left')\n",
    "\n",
    "# Replace empty values with mean values of the corresponding column\n",
    "df_merged['interes_rate'].fillna(df_merged['interes_rate'].mean(), inplace=True)\n",
    "df_merged['exchange_rate'].fillna(df_merged['exchange_rate'].mean(), inplace=True)\n",
    "\n",
    "# Save the merged dataframe to a new CSV file\n",
    "df_merged.to_csv('../../data/processed/united_table.csv', index=False)"
   ]
  },
  {
   "cell_type": "code",
   "execution_count": 32,
   "metadata": {},
   "outputs": [],
   "source": [
    "import statsmodels.api as sm\n",
    "\n",
    "# Load the merged dataframe\n",
    "df_merged = pd.read_csv('../../data/processed/united_table.csv')\n",
    "\n",
    "# Build the models\n",
    "model_tipo_de_cambio_tasa_de_interes = sm.OLS(df_merged['exchange_rate'], sm.add_constant(df_merged['interes_rate'])).fit()\n",
    "model_tasa_de_interes_inflacion = sm.OLS(df_merged['interes_rate'], sm.add_constant(df_merged['inflation'])).fit()\n",
    "model_tipo_de_cambio_inflacion = sm.OLS(df_merged['exchange_rate'], sm.add_constant(df_merged['inflation'])).fit()\n",
    "\n",
    "# Store the models' summary in a dataframe\n",
    "models_summary = pd.DataFrame({\n",
    "    'model': ['tipo_de_cambio ~ tasa_de_interes', 'tasa_de_interes ~ inflacion', 'tipo_de_cambio ~ inflacion'],\n",
    "    'params': [model_tipo_de_cambio_tasa_de_interes.params.to_dict(), \n",
    "               model_tasa_de_interes_inflacion.params.to_dict(), \n",
    "               model_tipo_de_cambio_inflacion.params.to_dict()],\n",
    "    'pvalues': [model_tipo_de_cambio_tasa_de_interes.pvalues.to_dict(), \n",
    "                model_tasa_de_interes_inflacion.pvalues.to_dict(), \n",
    "                model_tipo_de_cambio_inflacion.pvalues.to_dict()],\n",
    "    'rsquared': [model_tipo_de_cambio_tasa_de_interes.rsquared, \n",
    "                 model_tasa_de_interes_inflacion.rsquared, \n",
    "                 model_tipo_de_cambio_inflacion.rsquared]\n",
    "})\n",
    "\n",
    "# Save the models' summary to a .parquet file\n",
    "models_summary.to_parquet('../../data/model/models_summary.parquet', index=False)"
   ]
  },
  {
   "cell_type": "code",
   "execution_count": 33,
   "metadata": {},
   "outputs": [
    {
     "name": "stderr",
     "output_type": "stream",
     "text": [
      "/tmp/ipykernel_69893/181332183.py:9: FutureWarning: Series.__getitem__ treating keys as positions is deprecated. In a future version, integer keys will always be treated as labels (consistent with DataFrame behavior). To access a value by position, use `ser.iloc[pos]`\n",
      "  sns.regplot(x='interes_rate', y='exchange_rate', data=df_merged, ax=axes[0], line_kws={'label':\"y={0:.1f}x+{1:.1f}\".format(model_tipo_de_cambio_tasa_de_interes.params[1],model_tipo_de_cambio_tasa_de_interes.params[0])})\n",
      "/tmp/ipykernel_69893/181332183.py:14: FutureWarning: Series.__getitem__ treating keys as positions is deprecated. In a future version, integer keys will always be treated as labels (consistent with DataFrame behavior). To access a value by position, use `ser.iloc[pos]`\n",
      "  sns.regplot(x='inflation', y='interes_rate', data=df_merged, ax=axes[1], line_kws={'label':\"y={0:.1f}x+{1:.1f}\".format(model_tasa_de_interes_inflacion.params[1],model_tasa_de_interes_inflacion.params[0])})\n",
      "/tmp/ipykernel_69893/181332183.py:19: FutureWarning: Series.__getitem__ treating keys as positions is deprecated. In a future version, integer keys will always be treated as labels (consistent with DataFrame behavior). To access a value by position, use `ser.iloc[pos]`\n",
      "  sns.regplot(x='inflation', y='exchange_rate', data=df_merged, ax=axes[2], line_kws={'label':\"y={0:.1f}x+{1:.1f}\".format(model_tipo_de_cambio_inflacion.params[1],model_tipo_de_cambio_inflacion.params[0])})\n"
     ]
    },
    {
     "data": {
      "image/png": "[encoded data removed]",
      "text/plain": [
       "<Figure size 1800x600 with 3 Axes>"
      ]
     },
     "metadata": {},
     "output_type": "display_data"
    }
   ],
   "source": [
    "import seaborn as sns\n",
    "\n",
    "import matplotlib.pyplot as plt\n",
    "\n",
    "# Create a figure with 3 subplots\n",
    "fig, axes = plt.subplots(1, 3, figsize=(18, 6))\n",
    "\n",
    "# Scatter plot and regression line for tipo_de_cambio ~ tasa_de_interes\n",
    "sns.regplot(x='interes_rate', y='exchange_rate', data=df_merged, ax=axes[0], line_kws={'label':\"y={0:.1f}x+{1:.1f}\".format(model_tipo_de_cambio_tasa_de_interes.params[1],model_tipo_de_cambio_tasa_de_interes.params[0])})\n",
    "axes[0].set_title('Tipo de Cambio vs Tasa de Interes')\n",
    "axes[0].legend()\n",
    "\n",
    "# Scatter plot and regression line for tasa_de_interes ~ inflacion\n",
    "sns.regplot(x='inflation', y='interes_rate', data=df_merged, ax=axes[1], line_kws={'label':\"y={0:.1f}x+{1:.1f}\".format(model_tasa_de_interes_inflacion.params[1],model_tasa_de_interes_inflacion.params[0])})\n",
    "axes[1].set_title('Tasa de Interes vs Inflacion')\n",
    "axes[1].legend()\n",
    "\n",
    "# Scatter plot and regression line for tipo_de_cambio ~ inflacion\n",
    "sns.regplot(x='inflation', y='exchange_rate', data=df_merged, ax=axes[2], line_kws={'label':\"y={0:.1f}x+{1:.1f}\".format(model_tipo_de_cambio_inflacion.params[1],model_tipo_de_cambio_inflacion.params[0])})\n",
    "axes[2].set_title('Tipo de Cambio vs Inflacion')\n",
    "axes[2].legend()\n",
    "\n",
    "plt.tight_layout()\n",
    "plt.show()"
   ]
  },
  {
   "attachments": {},
   "cell_type": "markdown",
   "metadata": {},
   "source": [
    "## Configuración \n",
    "\n",
    "Sigamos paso a paso cada uno de los pasos descritos anteriormente.\n",
    "\n",
    "### Crear una base de datos en el Glue Catalog\n",
    "\n",
    "Para crear la base de datos en AWS Glue Catalog, primero tenemos que llamar\n",
    "al cliente de Glue.\n",
    "\n",
    "Aqui te dejo la [documentación](https://boto3.amazonaws.com/v1/documentation/api/latest/reference/services/glue.html) para que veas que funciones puedes llamar de \n",
    "este servicio."
   ]
  },
  {
   "cell_type": "code",
   "execution_count": 34,
   "metadata": {},
   "outputs": [],
   "source": [
    "# Abres un cliente de S3\n",
    "import boto3\n",
    "session = boto3.Session(profile_name='arquitectura', \n",
    "                        region_name='us-east-1') ## added this line to define the region\n",
    "s3 = session.client('s3')"
   ]
  },
  {
   "cell_type": "code",
   "execution_count": 35,
   "metadata": {},
   "outputs": [],
   "source": [
    "from botocore.config import Config\n",
    "my_config = Config(\n",
    "    region_name = 'us-east-1'\n",
    ")\n",
    "\n",
    "glue = boto3.client('glue', config=my_config)"
   ]
  },
  {
   "attachments": {},
   "cell_type": "markdown",
   "metadata": {},
   "source": [
    "Vamos a llamar la función `create_database`, que necesita un nombre\n",
    "y una descripción."
   ]
  },
  {
   "cell_type": "code",
   "execution_count": 36,
   "metadata": {},
   "outputs": [
    {
     "data": {
      "text/plain": [
       "{'ResponseMetadata': {'RequestId': '877e70a8-7583-457d-afd5-9e3cbf05aae8',\n",
       "  'HTTPStatusCode': 200,\n",
       "  'HTTPHeaders': {'date': 'Thu, 20 Mar 2025 03:08:58 GMT',\n",
       "   'content-type': 'application/x-amz-json-1.1',\n",
       "   'content-length': '2',\n",
       "   'connection': 'keep-alive',\n",
       "   'x-amzn-requestid': '877e70a8-7583-457d-afd5-9e3cbf05aae8',\n",
       "   'cache-control': 'no-cache'},\n",
       "  'RetryAttempts': 0}}"
      ]
     },
     "execution_count": 36,
     "metadata": {},
     "output_type": "execute_result"
    }
   ],
   "source": [
    "response = glue.create_database(\n",
    "    DatabaseInput={\n",
    "        'Name': 'hw06',\n",
    "        'Description': 'Contains data about exchange rate mxn-usd, infaltion and interes rate obtained form Banco de Mexico and INEGI (raw and processed).',\n",
    "    },\n",
    ")\n",
    "response"
   ]
  },
  {
   "cell_type": "code",
   "execution_count": null,
   "metadata": {},
   "outputs": [],
   "source": [
    "response = glue.create_database(\n",
    "    DatabaseInput={\n",
    "        'Name': 'econ',\n",
    "        'Description': 'Contains data about period,interes_rate,inflation (processed).',\n",
    "    },\n",
    ")\n",
    "response"
   ]
  },
  {
   "cell_type": "markdown",
   "metadata": {},
   "source": [
    "**NOTA**: Si no puedes correr esta línea porque no encuentras la sesión las credenciales, entonces entra a la consola de AWS, y crea la database desde el servicio de Glue.\n",
    "\n",
    "Los pasos que tienes que seguir son:\n",
    "\n",
    "* Entra a tu cuenta de AWS\n",
    "* Navega al servicio de Glue.\n",
    "* En el menú izquierdo buscao catalog, y luego databases.\n",
    "* En databases, crea una nueva base de datos.\n",
    "* Ingresa el `name` y el `description`, toma como referncia los valores que tienes en la celda de arriba.\n"
   ]
  },
  {
   "attachments": {},
   "cell_type": "markdown",
   "metadata": {},
   "source": [
    "### Configurar Athena"
   ]
  },
  {
   "attachments": {},
   "cell_type": "markdown",
   "metadata": {},
   "source": [
    "Necesitamos crear un bucket al que podamos apuntar nuestras queries en \n",
    "Amazon Athena. Recuerda poner un nombre único a tu bucket. En este caso puedes\n",
    "poner `arquitectura-athena-queries-MINOMBRE`"
   ]
  },
  {
   "cell_type": "code",
   "execution_count": null,
   "metadata": {},
   "outputs": [
    {
     "data": {
      "text/plain": [
       "{'ResponseMetadata': {'RequestId': 'PQMT7ZEJGRX5TNXP',\n",
       "  'HostId': 'J/3vJ3EaLvioCRAI5eeO65oIlswykb5T/m17wlkGMzShuOXpXlKJytEd+ji9X3FjkMklZh1DG1o=',\n",
       "  'HTTPStatusCode': 200,\n",
       "  'HTTPHeaders': {'x-amz-id-2': 'J/3vJ3EaLvioCRAI5eeO65oIlswykb5T/m17wlkGMzShuOXpXlKJytEd+ji9X3FjkMklZh1DG1o=',\n",
       "   'x-amz-request-id': 'PQMT7ZEJGRX5TNXP',\n",
       "   'date': 'Wed, 19 Mar 2025 02:36:16 GMT',\n",
       "   'location': '/arquitectura-athena-queries-thmrrudolf',\n",
       "   'content-length': '0',\n",
       "   'server': 'AmazonS3'},\n",
       "  'RetryAttempts': 0},\n",
       " 'Location': '/arquitectura-athena-queries-thmrrudolf'}"
      ]
     },
     "execution_count": 174,
     "metadata": {},
     "output_type": "execute_result"
    }
   ],
   "source": [
    "s3.create_bucket(Bucket=\"arquitectura-athena-queries-thmrrudolf\")"
   ]
  },
  {
   "cell_type": "markdown",
   "metadata": {},
   "source": [
    "## a) Extract y b) Load\n",
    "\n",
    "### Crear tablas en la base de datos de nuestros CSVs en el data lake\n",
    "\n",
    "- **Season Guests Table**"
   ]
  },
  {
   "cell_type": "code",
   "execution_count": null,
   "metadata": {},
   "outputs": [],
   "source": [
    "import awswrangler as wr"
   ]
  },
  {
   "cell_type": "code",
   "execution_count": null,
   "metadata": {},
   "outputs": [
    {
     "name": "stdout",
     "output_type": "stream",
     "text": [
      "Session(region_name='us-east-1')\n"
     ]
    }
   ],
   "source": [
    "query = '''\n",
    "    CREATE EXTERNAL TABLE IF NOT EXISTS `hw06`.`inflation` (\n",
    "    `period` string,\n",
    "    `inflacion` float\n",
    "    ) COMMENT \"Catalog of inflation rate\"\n",
    "    ROW FORMAT SERDE 'org.apache.hadoop.hive.serde2.lazy.LazySimpleSerDe'\n",
    "    WITH SERDEPROPERTIES ('field.delim' = ',')\n",
    "    STORED AS INPUTFORMAT 'org.apache.hadoop.mapred.TextInputFormat' OUTPUTFORMAT 'org.apache.hadoop.hive.ql.io.HiveIgnoreKeyTextOutputFormat'\n",
    "    LOCATION 's3://itam-analytics-thmrudolf/hw06/raw/inflacion/'\n",
    "    TBLPROPERTIES ('classification' = 'csv', \"skip.header.line.count\"=\"1\");\n",
    "'''\n",
    "print(session)"
   ]
  },
  {
   "cell_type": "code",
   "execution_count": null,
   "metadata": {},
   "outputs": [
    {
     "ename": "InvalidRequestException",
     "evalue": "An error occurred (InvalidRequestException) when calling the StartQueryExecution operation: line 12:6: mismatched input 'COMMENT'. Expecting: '%', ')', '*', '+', ',', '-', '.', '/', 'AND', 'AT', 'CROSS', 'EXCEPT', 'FETCH', 'FULL', 'GROUP', 'HAVING', 'INNER', 'INTERSECT', 'JOIN', 'LEFT', 'LIMIT', 'NATURAL', 'OFFSET', 'OR', 'ORDER', 'RIGHT', 'UNION', 'WHERE', 'WINDOW', 'WITH', '[', '||', <EOF>",
     "output_type": "error",
     "traceback": [
      "\u001b[31m---------------------------------------------------------------------------\u001b[39m",
      "\u001b[31mInvalidRequestException\u001b[39m                   Traceback (most recent call last)",
      "\u001b[36mCell\u001b[39m\u001b[36m \u001b[39m\u001b[32mIn[9]\u001b[39m\u001b[32m, line 21\u001b[39m\n\u001b[32m      1\u001b[39m query = \u001b[33m'''\u001b[39m\n\u001b[32m      2\u001b[39m \u001b[33m    CREATE TABLE IF NOT EXISTS hw06.united_table AS (\u001b[39m\n\u001b[32m      3\u001b[39m \u001b[33m        SELECT \u001b[39m\n\u001b[32m   (...)\u001b[39m\u001b[32m     18\u001b[39m \u001b[33m    TBLPROPERTIES (\u001b[39m\u001b[33m'\u001b[39m\u001b[33mclassification\u001b[39m\u001b[33m'\u001b[39m\u001b[33m = \u001b[39m\u001b[33m'\u001b[39m\u001b[33mcsv\u001b[39m\u001b[33m'\u001b[39m\u001b[33m, \u001b[39m\u001b[33m\"\u001b[39m\u001b[33mskip.header.line.count\u001b[39m\u001b[33m\"\u001b[39m\u001b[33m=\u001b[39m\u001b[33m\"\u001b[39m\u001b[33m1\u001b[39m\u001b[33m\"\u001b[39m\u001b[33m);\u001b[39m\n\u001b[32m     19\u001b[39m \u001b[33m'''\u001b[39m\n\u001b[32m---> \u001b[39m\u001b[32m21\u001b[39m \u001b[43mwr\u001b[49m\u001b[43m.\u001b[49m\u001b[43mathena\u001b[49m\u001b[43m.\u001b[49m\u001b[43mread_sql_query\u001b[49m\u001b[43m(\u001b[49m\n\u001b[32m     22\u001b[39m \u001b[43m    \u001b[49m\u001b[43mquery\u001b[49m\u001b[43m,\u001b[49m\u001b[43m \u001b[49m\n\u001b[32m     23\u001b[39m \u001b[43m    \u001b[49m\u001b[43mdatabase\u001b[49m\u001b[43m=\u001b[49m\u001b[33;43m\"\u001b[39;49m\u001b[33;43mhw06\u001b[39;49m\u001b[33;43m\"\u001b[39;49m\u001b[43m,\u001b[49m\u001b[43m \u001b[49m\n\u001b[32m     24\u001b[39m \u001b[43m    \u001b[49m\u001b[43mctas_approach\u001b[49m\u001b[43m=\u001b[49m\u001b[38;5;28;43;01mFalse\u001b[39;49;00m\u001b[43m,\u001b[49m\n\u001b[32m     25\u001b[39m \u001b[43m    \u001b[49m\u001b[43mboto3_session\u001b[49m\u001b[43m=\u001b[49m\u001b[43msession\u001b[49m\n\u001b[32m     26\u001b[39m \u001b[43m)\u001b[49m\n",
      "\u001b[36mFile \u001b[39m\u001b[32m/mnt/c/Users/thmru/github/2025_ArquitecturaDeProdDeDatos/adpd_HW6/venv_adgdhw06/lib/python3.11/site-packages/awswrangler/_config.py:712\u001b[39m, in \u001b[36mapply_configs.<locals>.wrapper\u001b[39m\u001b[34m(*args_raw, **kwargs)\u001b[39m\n\u001b[32m    710\u001b[39m         \u001b[38;5;28;01mdel\u001b[39;00m args[name]\n\u001b[32m    711\u001b[39m         args = {**args, **keywords}\n\u001b[32m--> \u001b[39m\u001b[32m712\u001b[39m \u001b[38;5;28;01mreturn\u001b[39;00m \u001b[43mfunction\u001b[49m\u001b[43m(\u001b[49m\u001b[43m*\u001b[49m\u001b[43m*\u001b[49m\u001b[43margs\u001b[49m\u001b[43m)\u001b[49m\n",
      "\u001b[36mFile \u001b[39m\u001b[32m/mnt/c/Users/thmru/github/2025_ArquitecturaDeProdDeDatos/adpd_HW6/venv_adgdhw06/lib/python3.11/site-packages/awswrangler/_utils.py:179\u001b[39m, in \u001b[36mvalidate_kwargs.<locals>.decorator.<locals>.inner\u001b[39m\u001b[34m(*args, **kwargs)\u001b[39m\n\u001b[32m    176\u001b[39m \u001b[38;5;28;01mif\u001b[39;00m condition_fn() \u001b[38;5;129;01mand\u001b[39;00m \u001b[38;5;28mlen\u001b[39m(passed_unsupported_kwargs) > \u001b[32m0\u001b[39m:\n\u001b[32m    177\u001b[39m     \u001b[38;5;28;01mraise\u001b[39;00m exceptions.InvalidArgument(\u001b[33mf\u001b[39m\u001b[33m\"\u001b[39m\u001b[38;5;132;01m{\u001b[39;00mmessage\u001b[38;5;132;01m}\u001b[39;00m\u001b[33m `\u001b[39m\u001b[38;5;132;01m{\u001b[39;00m\u001b[33m'\u001b[39m\u001b[33m, \u001b[39m\u001b[33m'\u001b[39m.join(passed_unsupported_kwargs)\u001b[38;5;132;01m}\u001b[39;00m\u001b[33m`.\u001b[39m\u001b[33m\"\u001b[39m)\n\u001b[32m--> \u001b[39m\u001b[32m179\u001b[39m \u001b[38;5;28;01mreturn\u001b[39;00m \u001b[43mfunc\u001b[49m\u001b[43m(\u001b[49m\u001b[43m*\u001b[49m\u001b[43margs\u001b[49m\u001b[43m,\u001b[49m\u001b[43m \u001b[49m\u001b[43m*\u001b[49m\u001b[43m*\u001b[49m\u001b[43mkwargs\u001b[49m\u001b[43m)\u001b[49m\n",
      "\u001b[36mFile \u001b[39m\u001b[32m/mnt/c/Users/thmru/github/2025_ArquitecturaDeProdDeDatos/adpd_HW6/venv_adgdhw06/lib/python3.11/site-packages/awswrangler/athena/_read.py:1083\u001b[39m, in \u001b[36mread_sql_query\u001b[39m\u001b[34m(sql, database, ctas_approach, unload_approach, ctas_parameters, unload_parameters, categories, chunksize, s3_output, workgroup, encryption, kms_key, keep_files, use_threads, boto3_session, client_request_token, athena_cache_settings, data_source, athena_query_wait_polling_delay, params, paramstyle, dtype_backend, s3_additional_kwargs, pyarrow_additional_kwargs)\u001b[39m\n\u001b[32m   1080\u001b[39m ctas_bucketing_info = ctas_parameters.get(\u001b[33m\"\u001b[39m\u001b[33mbucketing_info\u001b[39m\u001b[33m\"\u001b[39m)\n\u001b[32m   1081\u001b[39m ctas_write_compression = ctas_parameters.get(\u001b[33m\"\u001b[39m\u001b[33mcompression\u001b[39m\u001b[33m\"\u001b[39m)\n\u001b[32m-> \u001b[39m\u001b[32m1083\u001b[39m \u001b[38;5;28;01mreturn\u001b[39;00m \u001b[43m_resolve_query_without_cache\u001b[49m\u001b[43m(\u001b[49m\n\u001b[32m   1084\u001b[39m \u001b[43m    \u001b[49m\u001b[43msql\u001b[49m\u001b[43m=\u001b[49m\u001b[43msql\u001b[49m\u001b[43m,\u001b[49m\n\u001b[32m   1085\u001b[39m \u001b[43m    \u001b[49m\u001b[43mdatabase\u001b[49m\u001b[43m=\u001b[49m\u001b[43mdatabase\u001b[49m\u001b[43m,\u001b[49m\n\u001b[32m   1086\u001b[39m \u001b[43m    \u001b[49m\u001b[43mdata_source\u001b[49m\u001b[43m=\u001b[49m\u001b[43mdata_source\u001b[49m\u001b[43m,\u001b[49m\n\u001b[32m   1087\u001b[39m \u001b[43m    \u001b[49m\u001b[43mctas_approach\u001b[49m\u001b[43m=\u001b[49m\u001b[43mctas_approach\u001b[49m\u001b[43m,\u001b[49m\n\u001b[32m   1088\u001b[39m \u001b[43m    \u001b[49m\u001b[43munload_approach\u001b[49m\u001b[43m=\u001b[49m\u001b[43munload_approach\u001b[49m\u001b[43m,\u001b[49m\n\u001b[32m   1089\u001b[39m \u001b[43m    \u001b[49m\u001b[43munload_parameters\u001b[49m\u001b[43m=\u001b[49m\u001b[43munload_parameters\u001b[49m\u001b[43m,\u001b[49m\n\u001b[32m   1090\u001b[39m \u001b[43m    \u001b[49m\u001b[43mcategories\u001b[49m\u001b[43m=\u001b[49m\u001b[43mcategories\u001b[49m\u001b[43m,\u001b[49m\n\u001b[32m   1091\u001b[39m \u001b[43m    \u001b[49m\u001b[43mchunksize\u001b[49m\u001b[43m=\u001b[49m\u001b[43mchunksize\u001b[49m\u001b[43m,\u001b[49m\n\u001b[32m   1092\u001b[39m \u001b[43m    \u001b[49m\u001b[43ms3_output\u001b[49m\u001b[43m=\u001b[49m\u001b[43ms3_output\u001b[49m\u001b[43m,\u001b[49m\n\u001b[32m   1093\u001b[39m \u001b[43m    \u001b[49m\u001b[43mworkgroup\u001b[49m\u001b[43m=\u001b[49m\u001b[43mworkgroup\u001b[49m\u001b[43m,\u001b[49m\n\u001b[32m   1094\u001b[39m \u001b[43m    \u001b[49m\u001b[43mencryption\u001b[49m\u001b[43m=\u001b[49m\u001b[43mencryption\u001b[49m\u001b[43m,\u001b[49m\n\u001b[32m   1095\u001b[39m \u001b[43m    \u001b[49m\u001b[43mkms_key\u001b[49m\u001b[43m=\u001b[49m\u001b[43mkms_key\u001b[49m\u001b[43m,\u001b[49m\n\u001b[32m   1096\u001b[39m \u001b[43m    \u001b[49m\u001b[43mkeep_files\u001b[49m\u001b[43m=\u001b[49m\u001b[43mkeep_files\u001b[49m\u001b[43m,\u001b[49m\n\u001b[32m   1097\u001b[39m \u001b[43m    \u001b[49m\u001b[43mctas_database\u001b[49m\u001b[43m=\u001b[49m\u001b[43mctas_database\u001b[49m\u001b[43m,\u001b[49m\n\u001b[32m   1098\u001b[39m \u001b[43m    \u001b[49m\u001b[43mctas_temp_table_name\u001b[49m\u001b[43m=\u001b[49m\u001b[43mctas_temp_table_name\u001b[49m\u001b[43m,\u001b[49m\n\u001b[32m   1099\u001b[39m \u001b[43m    \u001b[49m\u001b[43mctas_bucketing_info\u001b[49m\u001b[43m=\u001b[49m\u001b[43mctas_bucketing_info\u001b[49m\u001b[43m,\u001b[49m\n\u001b[32m   1100\u001b[39m \u001b[43m    \u001b[49m\u001b[43mctas_write_compression\u001b[49m\u001b[43m=\u001b[49m\u001b[43mctas_write_compression\u001b[49m\u001b[43m,\u001b[49m\n\u001b[32m   1101\u001b[39m \u001b[43m    \u001b[49m\u001b[43mathena_query_wait_polling_delay\u001b[49m\u001b[43m=\u001b[49m\u001b[43mathena_query_wait_polling_delay\u001b[49m\u001b[43m,\u001b[49m\n\u001b[32m   1102\u001b[39m \u001b[43m    \u001b[49m\u001b[43muse_threads\u001b[49m\u001b[43m=\u001b[49m\u001b[43muse_threads\u001b[49m\u001b[43m,\u001b[49m\n\u001b[32m   1103\u001b[39m \u001b[43m    \u001b[49m\u001b[43ms3_additional_kwargs\u001b[49m\u001b[43m=\u001b[49m\u001b[43ms3_additional_kwargs\u001b[49m\u001b[43m,\u001b[49m\n\u001b[32m   1104\u001b[39m \u001b[43m    \u001b[49m\u001b[43mboto3_session\u001b[49m\u001b[43m=\u001b[49m\u001b[43mboto3_session\u001b[49m\u001b[43m,\u001b[49m\n\u001b[32m   1105\u001b[39m \u001b[43m    \u001b[49m\u001b[43mpyarrow_additional_kwargs\u001b[49m\u001b[43m=\u001b[49m\u001b[43mpyarrow_additional_kwargs\u001b[49m\u001b[43m,\u001b[49m\n\u001b[32m   1106\u001b[39m \u001b[43m    \u001b[49m\u001b[43mexecution_params\u001b[49m\u001b[43m=\u001b[49m\u001b[43mexecution_params\u001b[49m\u001b[43m,\u001b[49m\n\u001b[32m   1107\u001b[39m \u001b[43m    \u001b[49m\u001b[43mdtype_backend\u001b[49m\u001b[43m=\u001b[49m\u001b[43mdtype_backend\u001b[49m\u001b[43m,\u001b[49m\n\u001b[32m   1108\u001b[39m \u001b[43m    \u001b[49m\u001b[43mclient_request_token\u001b[49m\u001b[43m=\u001b[49m\u001b[43mclient_request_token\u001b[49m\u001b[43m,\u001b[49m\n\u001b[32m   1109\u001b[39m \u001b[43m\u001b[49m\u001b[43m)\u001b[49m\n",
      "\u001b[36mFile \u001b[39m\u001b[32m/mnt/c/Users/thmru/github/2025_ArquitecturaDeProdDeDatos/adpd_HW6/venv_adgdhw06/lib/python3.11/site-packages/awswrangler/athena/_read.py:559\u001b[39m, in \u001b[36m_resolve_query_without_cache\u001b[39m\u001b[34m(sql, database, data_source, ctas_approach, unload_approach, unload_parameters, categories, chunksize, s3_output, workgroup, encryption, kms_key, keep_files, ctas_database, ctas_temp_table_name, ctas_bucketing_info, ctas_write_compression, athena_query_wait_polling_delay, use_threads, s3_additional_kwargs, boto3_session, pyarrow_additional_kwargs, execution_params, dtype_backend, client_request_token)\u001b[39m\n\u001b[32m    535\u001b[39m         unload_parameters = {}\n\u001b[32m    536\u001b[39m     \u001b[38;5;28;01mreturn\u001b[39;00m _resolve_query_without_cache_unload(\n\u001b[32m    537\u001b[39m         sql=sql,\n\u001b[32m    538\u001b[39m         file_format=unload_parameters.get(\u001b[33m\"\u001b[39m\u001b[33mfile_format\u001b[39m\u001b[33m\"\u001b[39m) \u001b[38;5;129;01mor\u001b[39;00m \u001b[33m\"\u001b[39m\u001b[33mPARQUET\u001b[39m\u001b[33m\"\u001b[39m,\n\u001b[32m   (...)\u001b[39m\u001b[32m    557\u001b[39m         dtype_backend=dtype_backend,\n\u001b[32m    558\u001b[39m     )\n\u001b[32m--> \u001b[39m\u001b[32m559\u001b[39m \u001b[38;5;28;01mreturn\u001b[39;00m \u001b[43m_resolve_query_without_cache_regular\u001b[49m\u001b[43m(\u001b[49m\n\u001b[32m    560\u001b[39m \u001b[43m    \u001b[49m\u001b[43msql\u001b[49m\u001b[43m=\u001b[49m\u001b[43msql\u001b[49m\u001b[43m,\u001b[49m\n\u001b[32m    561\u001b[39m \u001b[43m    \u001b[49m\u001b[43mdatabase\u001b[49m\u001b[43m=\u001b[49m\u001b[43mdatabase\u001b[49m\u001b[43m,\u001b[49m\n\u001b[32m    562\u001b[39m \u001b[43m    \u001b[49m\u001b[43mdata_source\u001b[49m\u001b[43m=\u001b[49m\u001b[43mdata_source\u001b[49m\u001b[43m,\u001b[49m\n\u001b[32m    563\u001b[39m \u001b[43m    \u001b[49m\u001b[43ms3_output\u001b[49m\u001b[43m=\u001b[49m\u001b[43ms3_output\u001b[49m\u001b[43m,\u001b[49m\n\u001b[32m    564\u001b[39m \u001b[43m    \u001b[49m\u001b[43mkeep_files\u001b[49m\u001b[43m=\u001b[49m\u001b[43mkeep_files\u001b[49m\u001b[43m,\u001b[49m\n\u001b[32m    565\u001b[39m \u001b[43m    \u001b[49m\u001b[43mchunksize\u001b[49m\u001b[43m=\u001b[49m\u001b[43mchunksize\u001b[49m\u001b[43m,\u001b[49m\n\u001b[32m    566\u001b[39m \u001b[43m    \u001b[49m\u001b[43mcategories\u001b[49m\u001b[43m=\u001b[49m\u001b[43mcategories\u001b[49m\u001b[43m,\u001b[49m\n\u001b[32m    567\u001b[39m \u001b[43m    \u001b[49m\u001b[43mencryption\u001b[49m\u001b[43m=\u001b[49m\u001b[43mencryption\u001b[49m\u001b[43m,\u001b[49m\n\u001b[32m    568\u001b[39m \u001b[43m    \u001b[49m\u001b[43mworkgroup\u001b[49m\u001b[43m=\u001b[49m\u001b[43mworkgroup\u001b[49m\u001b[43m,\u001b[49m\n\u001b[32m    569\u001b[39m \u001b[43m    \u001b[49m\u001b[43mkms_key\u001b[49m\u001b[43m=\u001b[49m\u001b[43mkms_key\u001b[49m\u001b[43m,\u001b[49m\n\u001b[32m    570\u001b[39m \u001b[43m    \u001b[49m\u001b[43muse_threads\u001b[49m\u001b[43m=\u001b[49m\u001b[43muse_threads\u001b[49m\u001b[43m,\u001b[49m\n\u001b[32m    571\u001b[39m \u001b[43m    \u001b[49m\u001b[43mathena_query_wait_polling_delay\u001b[49m\u001b[43m=\u001b[49m\u001b[43mathena_query_wait_polling_delay\u001b[49m\u001b[43m,\u001b[49m\n\u001b[32m    572\u001b[39m \u001b[43m    \u001b[49m\u001b[43ms3_additional_kwargs\u001b[49m\u001b[43m=\u001b[49m\u001b[43ms3_additional_kwargs\u001b[49m\u001b[43m,\u001b[49m\n\u001b[32m    573\u001b[39m \u001b[43m    \u001b[49m\u001b[43mboto3_session\u001b[49m\u001b[43m=\u001b[49m\u001b[43mboto3_session\u001b[49m\u001b[43m,\u001b[49m\n\u001b[32m    574\u001b[39m \u001b[43m    \u001b[49m\u001b[43mexecution_params\u001b[49m\u001b[43m=\u001b[49m\u001b[43mexecution_params\u001b[49m\u001b[43m,\u001b[49m\n\u001b[32m    575\u001b[39m \u001b[43m    \u001b[49m\u001b[43mdtype_backend\u001b[49m\u001b[43m=\u001b[49m\u001b[43mdtype_backend\u001b[49m\u001b[43m,\u001b[49m\n\u001b[32m    576\u001b[39m \u001b[43m    \u001b[49m\u001b[43mclient_request_token\u001b[49m\u001b[43m=\u001b[49m\u001b[43mclient_request_token\u001b[49m\u001b[43m,\u001b[49m\n\u001b[32m    577\u001b[39m \u001b[43m\u001b[49m\u001b[43m)\u001b[49m\n",
      "\u001b[36mFile \u001b[39m\u001b[32m/mnt/c/Users/thmru/github/2025_ArquitecturaDeProdDeDatos/adpd_HW6/venv_adgdhw06/lib/python3.11/site-packages/awswrangler/athena/_read.py:437\u001b[39m, in \u001b[36m_resolve_query_without_cache_regular\u001b[39m\u001b[34m(sql, database, data_source, s3_output, keep_files, chunksize, categories, encryption, workgroup, kms_key, use_threads, athena_query_wait_polling_delay, s3_additional_kwargs, boto3_session, execution_params, dtype_backend, client_request_token)\u001b[39m\n\u001b[32m    435\u001b[39m s3_output = s3_output[:-\u001b[32m1\u001b[39m] \u001b[38;5;28;01mif\u001b[39;00m s3_output[-\u001b[32m1\u001b[39m] == \u001b[33m\"\u001b[39m\u001b[33m/\u001b[39m\u001b[33m\"\u001b[39m \u001b[38;5;28;01melse\u001b[39;00m s3_output\n\u001b[32m    436\u001b[39m _logger.debug(\u001b[33m\"\u001b[39m\u001b[33mExecuting sql: \u001b[39m\u001b[38;5;132;01m%s\u001b[39;00m\u001b[33m\"\u001b[39m, sql)\n\u001b[32m--> \u001b[39m\u001b[32m437\u001b[39m query_id: \u001b[38;5;28mstr\u001b[39m = \u001b[43m_start_query_execution\u001b[49m\u001b[43m(\u001b[49m\n\u001b[32m    438\u001b[39m \u001b[43m    \u001b[49m\u001b[43msql\u001b[49m\u001b[43m=\u001b[49m\u001b[43msql\u001b[49m\u001b[43m,\u001b[49m\n\u001b[32m    439\u001b[39m \u001b[43m    \u001b[49m\u001b[43mwg_config\u001b[49m\u001b[43m=\u001b[49m\u001b[43mwg_config\u001b[49m\u001b[43m,\u001b[49m\n\u001b[32m    440\u001b[39m \u001b[43m    \u001b[49m\u001b[43mdatabase\u001b[49m\u001b[43m=\u001b[49m\u001b[43mdatabase\u001b[49m\u001b[43m,\u001b[49m\n\u001b[32m    441\u001b[39m \u001b[43m    \u001b[49m\u001b[43mdata_source\u001b[49m\u001b[43m=\u001b[49m\u001b[43mdata_source\u001b[49m\u001b[43m,\u001b[49m\n\u001b[32m    442\u001b[39m \u001b[43m    \u001b[49m\u001b[43ms3_output\u001b[49m\u001b[43m=\u001b[49m\u001b[43ms3_output\u001b[49m\u001b[43m,\u001b[49m\n\u001b[32m    443\u001b[39m \u001b[43m    \u001b[49m\u001b[43mworkgroup\u001b[49m\u001b[43m=\u001b[49m\u001b[43mworkgroup\u001b[49m\u001b[43m,\u001b[49m\n\u001b[32m    444\u001b[39m \u001b[43m    \u001b[49m\u001b[43mencryption\u001b[49m\u001b[43m=\u001b[49m\u001b[43mencryption\u001b[49m\u001b[43m,\u001b[49m\n\u001b[32m    445\u001b[39m \u001b[43m    \u001b[49m\u001b[43mkms_key\u001b[49m\u001b[43m=\u001b[49m\u001b[43mkms_key\u001b[49m\u001b[43m,\u001b[49m\n\u001b[32m    446\u001b[39m \u001b[43m    \u001b[49m\u001b[43mexecution_params\u001b[49m\u001b[43m=\u001b[49m\u001b[43mexecution_params\u001b[49m\u001b[43m,\u001b[49m\n\u001b[32m    447\u001b[39m \u001b[43m    \u001b[49m\u001b[43mclient_request_token\u001b[49m\u001b[43m=\u001b[49m\u001b[43mclient_request_token\u001b[49m\u001b[43m,\u001b[49m\n\u001b[32m    448\u001b[39m \u001b[43m    \u001b[49m\u001b[43mboto3_session\u001b[49m\u001b[43m=\u001b[49m\u001b[43mboto3_session\u001b[49m\u001b[43m,\u001b[49m\n\u001b[32m    449\u001b[39m \u001b[43m\u001b[49m\u001b[43m)\u001b[49m\n\u001b[32m    450\u001b[39m _logger.debug(\u001b[33m\"\u001b[39m\u001b[33mQuery id: \u001b[39m\u001b[38;5;132;01m%s\u001b[39;00m\u001b[33m\"\u001b[39m, query_id)\n\u001b[32m    451\u001b[39m query_metadata: _QueryMetadata = _get_query_metadata(\n\u001b[32m    452\u001b[39m     query_execution_id=query_id,\n\u001b[32m    453\u001b[39m     boto3_session=boto3_session,\n\u001b[32m   (...)\u001b[39m\u001b[32m    457\u001b[39m     dtype_backend=dtype_backend,\n\u001b[32m    458\u001b[39m )\n",
      "\u001b[36mFile \u001b[39m\u001b[32m/mnt/c/Users/thmru/github/2025_ArquitecturaDeProdDeDatos/adpd_HW6/venv_adgdhw06/lib/python3.11/site-packages/awswrangler/athena/_utils.py:128\u001b[39m, in \u001b[36m_start_query_execution\u001b[39m\u001b[34m(sql, wg_config, database, data_source, s3_output, workgroup, encryption, kms_key, execution_params, client_request_token, boto3_session)\u001b[39m\n\u001b[32m    126\u001b[39m client_athena = _utils.client(service_name=\u001b[33m\"\u001b[39m\u001b[33mathena\u001b[39m\u001b[33m\"\u001b[39m, session=boto3_session)\n\u001b[32m    127\u001b[39m _logger.debug(\u001b[33m\"\u001b[39m\u001b[33mStarting query execution with args: \u001b[39m\u001b[38;5;130;01m\\n\u001b[39;00m\u001b[38;5;132;01m%s\u001b[39;00m\u001b[33m\"\u001b[39m, pprint.pformat(args))\n\u001b[32m--> \u001b[39m\u001b[32m128\u001b[39m response = \u001b[43m_utils\u001b[49m\u001b[43m.\u001b[49m\u001b[43mtry_it\u001b[49m\u001b[43m(\u001b[49m\n\u001b[32m    129\u001b[39m \u001b[43m    \u001b[49m\u001b[43mf\u001b[49m\u001b[43m=\u001b[49m\u001b[43mclient_athena\u001b[49m\u001b[43m.\u001b[49m\u001b[43mstart_query_execution\u001b[49m\u001b[43m,\u001b[49m\n\u001b[32m    130\u001b[39m \u001b[43m    \u001b[49m\u001b[43mex\u001b[49m\u001b[43m=\u001b[49m\u001b[43mbotocore\u001b[49m\u001b[43m.\u001b[49m\u001b[43mexceptions\u001b[49m\u001b[43m.\u001b[49m\u001b[43mClientError\u001b[49m\u001b[43m,\u001b[49m\n\u001b[32m    131\u001b[39m \u001b[43m    \u001b[49m\u001b[43mex_code\u001b[49m\u001b[43m=\u001b[49m\u001b[33;43m\"\u001b[39;49m\u001b[33;43mThrottlingException\u001b[39;49m\u001b[33;43m\"\u001b[39;49m\u001b[43m,\u001b[49m\n\u001b[32m    132\u001b[39m \u001b[43m    \u001b[49m\u001b[43mmax_num_tries\u001b[49m\u001b[43m=\u001b[49m\u001b[32;43m5\u001b[39;49m\u001b[43m,\u001b[49m\n\u001b[32m    133\u001b[39m \u001b[43m    \u001b[49m\u001b[43m*\u001b[49m\u001b[43m*\u001b[49m\u001b[43margs\u001b[49m\u001b[43m,\u001b[49m\n\u001b[32m    134\u001b[39m \u001b[43m\u001b[49m\u001b[43m)\u001b[49m\n\u001b[32m    135\u001b[39m _logger.debug(\u001b[33m\"\u001b[39m\u001b[33mQuery response:\u001b[39m\u001b[38;5;130;01m\\n\u001b[39;00m\u001b[38;5;132;01m%s\u001b[39;00m\u001b[33m\"\u001b[39m, response)\n\u001b[32m    136\u001b[39m \u001b[38;5;28;01mreturn\u001b[39;00m response[\u001b[33m\"\u001b[39m\u001b[33mQueryExecutionId\u001b[39m\u001b[33m\"\u001b[39m]\n",
      "\u001b[36mFile \u001b[39m\u001b[32m/mnt/c/Users/thmru/github/2025_ArquitecturaDeProdDeDatos/adpd_HW6/venv_adgdhw06/lib/python3.11/site-packages/awswrangler/_utils.py:790\u001b[39m, in \u001b[36mtry_it\u001b[39m\u001b[34m(f, ex, ex_code, base, max_num_tries, *args, **kwargs)\u001b[39m\n\u001b[32m    788\u001b[39m \u001b[38;5;28;01mfor\u001b[39;00m i \u001b[38;5;129;01min\u001b[39;00m \u001b[38;5;28mrange\u001b[39m(max_num_tries):\n\u001b[32m    789\u001b[39m     \u001b[38;5;28;01mtry\u001b[39;00m:\n\u001b[32m--> \u001b[39m\u001b[32m790\u001b[39m         \u001b[38;5;28;01mreturn\u001b[39;00m \u001b[43mf\u001b[49m\u001b[43m(\u001b[49m\u001b[43m*\u001b[49m\u001b[43margs\u001b[49m\u001b[43m,\u001b[49m\u001b[43m \u001b[49m\u001b[43m*\u001b[49m\u001b[43m*\u001b[49m\u001b[43mkwargs\u001b[49m\u001b[43m)\u001b[49m\n\u001b[32m    791\u001b[39m     \u001b[38;5;28;01mexcept\u001b[39;00m ex \u001b[38;5;28;01mas\u001b[39;00m exception:\n\u001b[32m    792\u001b[39m         \u001b[38;5;28;01mif\u001b[39;00m ex_code \u001b[38;5;129;01mis\u001b[39;00m \u001b[38;5;129;01mnot\u001b[39;00m \u001b[38;5;28;01mNone\u001b[39;00m \u001b[38;5;129;01mand\u001b[39;00m \u001b[38;5;28mhasattr\u001b[39m(exception, \u001b[33m\"\u001b[39m\u001b[33mresponse\u001b[39m\u001b[33m\"\u001b[39m):\n",
      "\u001b[36mFile \u001b[39m\u001b[32m/mnt/c/Users/thmru/github/2025_ArquitecturaDeProdDeDatos/adpd_HW6/venv_adgdhw06/lib/python3.11/site-packages/botocore/client.py:570\u001b[39m, in \u001b[36mClientCreator._create_api_method.<locals>._api_call\u001b[39m\u001b[34m(self, *args, **kwargs)\u001b[39m\n\u001b[32m    566\u001b[39m     \u001b[38;5;28;01mraise\u001b[39;00m \u001b[38;5;167;01mTypeError\u001b[39;00m(\n\u001b[32m    567\u001b[39m         \u001b[33mf\u001b[39m\u001b[33m\"\u001b[39m\u001b[38;5;132;01m{\u001b[39;00mpy_operation_name\u001b[38;5;132;01m}\u001b[39;00m\u001b[33m() only accepts keyword arguments.\u001b[39m\u001b[33m\"\u001b[39m\n\u001b[32m    568\u001b[39m     )\n\u001b[32m    569\u001b[39m \u001b[38;5;66;03m# The \"self\" in this scope is referring to the BaseClient.\u001b[39;00m\n\u001b[32m--> \u001b[39m\u001b[32m570\u001b[39m \u001b[38;5;28;01mreturn\u001b[39;00m \u001b[38;5;28;43mself\u001b[39;49m\u001b[43m.\u001b[49m\u001b[43m_make_api_call\u001b[49m\u001b[43m(\u001b[49m\u001b[43moperation_name\u001b[49m\u001b[43m,\u001b[49m\u001b[43m \u001b[49m\u001b[43mkwargs\u001b[49m\u001b[43m)\u001b[49m\n",
      "\u001b[36mFile \u001b[39m\u001b[32m/mnt/c/Users/thmru/github/2025_ArquitecturaDeProdDeDatos/adpd_HW6/venv_adgdhw06/lib/python3.11/site-packages/botocore/context.py:124\u001b[39m, in \u001b[36mwith_current_context.<locals>.decorator.<locals>.wrapper\u001b[39m\u001b[34m(*args, **kwargs)\u001b[39m\n\u001b[32m    122\u001b[39m \u001b[38;5;28;01mif\u001b[39;00m hook:\n\u001b[32m    123\u001b[39m     hook()\n\u001b[32m--> \u001b[39m\u001b[32m124\u001b[39m \u001b[38;5;28;01mreturn\u001b[39;00m \u001b[43mfunc\u001b[49m\u001b[43m(\u001b[49m\u001b[43m*\u001b[49m\u001b[43margs\u001b[49m\u001b[43m,\u001b[49m\u001b[43m \u001b[49m\u001b[43m*\u001b[49m\u001b[43m*\u001b[49m\u001b[43mkwargs\u001b[49m\u001b[43m)\u001b[49m\n",
      "\u001b[36mFile \u001b[39m\u001b[32m/mnt/c/Users/thmru/github/2025_ArquitecturaDeProdDeDatos/adpd_HW6/venv_adgdhw06/lib/python3.11/site-packages/botocore/client.py:1031\u001b[39m, in \u001b[36mBaseClient._make_api_call\u001b[39m\u001b[34m(self, operation_name, api_params)\u001b[39m\n\u001b[32m   1027\u001b[39m     error_code = error_info.get(\u001b[33m\"\u001b[39m\u001b[33mQueryErrorCode\u001b[39m\u001b[33m\"\u001b[39m) \u001b[38;5;129;01mor\u001b[39;00m error_info.get(\n\u001b[32m   1028\u001b[39m         \u001b[33m\"\u001b[39m\u001b[33mCode\u001b[39m\u001b[33m\"\u001b[39m\n\u001b[32m   1029\u001b[39m     )\n\u001b[32m   1030\u001b[39m     error_class = \u001b[38;5;28mself\u001b[39m.exceptions.from_code(error_code)\n\u001b[32m-> \u001b[39m\u001b[32m1031\u001b[39m     \u001b[38;5;28;01mraise\u001b[39;00m error_class(parsed_response, operation_name)\n\u001b[32m   1032\u001b[39m \u001b[38;5;28;01melse\u001b[39;00m:\n\u001b[32m   1033\u001b[39m     \u001b[38;5;28;01mreturn\u001b[39;00m parsed_response\n",
      "\u001b[31mInvalidRequestException\u001b[39m: An error occurred (InvalidRequestException) when calling the StartQueryExecution operation: line 12:6: mismatched input 'COMMENT'. Expecting: '%', ')', '*', '+', ',', '-', '.', '/', 'AND', 'AT', 'CROSS', 'EXCEPT', 'FETCH', 'FULL', 'GROUP', 'HAVING', 'INNER', 'INTERSECT', 'JOIN', 'LEFT', 'LIMIT', 'NATURAL', 'OFFSET', 'OR', 'ORDER', 'RIGHT', 'UNION', 'WHERE', 'WINDOW', 'WITH', '[', '||', <EOF>"
     ]
    }
   ],
   "source": [
    "query = '''\n",
    "    CREATE TABLE IF NOT EXISTS hw06.united_table AS (\n",
    "        SELECT \n",
    "            i.period,\n",
    "            i.inflacion,\n",
    "            t.tasa_de_interes,\n",
    "            c.tipo_de_cambio\n",
    "        FROM hw06.inflation AS i\n",
    "        LEFT JOIN hw06.tasa_de_interes AS t\n",
    "        ON i.period = t.period\n",
    "        LEFT JOIN hw06.cambio AS c\n",
    "        ON i.period = c.period\n",
    "    )COMMENT \"Catalog of inflation rate\"\n",
    "    ROW FORMAT SERDE 'org.apache.hadoop.hive.serde2.lazy.LazySimpleSerDe'\n",
    "    WITH SERDEPROPERTIES ('field.delim' = ',')\n",
    "    STORED AS INPUTFORMAT 'org.apache.hadoop.mapred.TextInputFormat' OUTPUTFORMAT 'org.apache.hadoop.hive.ql.io.HiveIgnoreKeyTextOutputFormat'\n",
    "    LOCATION 's3://itam-analytics-thmrudolf/hw06/raw/inflacion/'\n",
    "    TBLPROPERTIES ('classification' = 'csv', \"skip.header.line.count\"=\"1\");\n",
    "'''\n",
    "\n",
    "wr.athena.read_sql_query(\n",
    "    query, \n",
    "    database=\"hw06\", \n",
    "    ctas_approach=False,\n",
    "    boto3_session=session\n",
    ")"
   ]
  },
  {
   "cell_type": "code",
   "execution_count": null,
   "metadata": {},
   "outputs": [
    {
     "data": {
      "text/html": [
       "<div>\n",
       "<style scoped>\n",
       "    .dataframe tbody tr th:only-of-type {\n",
       "        vertical-align: middle;\n",
       "    }\n",
       "\n",
       "    .dataframe tbody tr th {\n",
       "        vertical-align: top;\n",
       "    }\n",
       "\n",
       "    .dataframe thead th {\n",
       "        text-align: right;\n",
       "    }\n",
       "</style>\n",
       "<table border=\"1\" class=\"dataframe\">\n",
       "  <thead>\n",
       "    <tr style=\"text-align: right;\">\n",
       "      <th></th>\n",
       "    </tr>\n",
       "  </thead>\n",
       "  <tbody>\n",
       "  </tbody>\n",
       "</table>\n",
       "</div>"
      ],
      "text/plain": [
       "Empty DataFrame\n",
       "Columns: []\n",
       "Index: []"
      ]
     },
     "execution_count": 186,
     "metadata": {},
     "output_type": "execute_result"
    }
   ],
   "source": [
    "wr.athena.read_sql_query(\n",
    "    query, \n",
    "    database=\"hw06\", \n",
    "    ctas_approach=False, \n",
    "    boto3_session=session\n",
    ")"
   ]
  },
  {
   "cell_type": "markdown",
   "metadata": {},
   "source": [
    "- **Seasons Table**"
   ]
  },
  {
   "cell_type": "code",
   "execution_count": null,
   "metadata": {},
   "outputs": [],
   "source": [
    "query = '''\n",
    "    CREATE EXTERNAL TABLE IF NOT EXISTS `hw06`.`exchange` (\n",
    "    `period` string,\n",
    "    `inflacion` float\n",
    "    ) COMMENT \"Catalog of Simpsons seasons.\"\n",
    "    ROW FORMAT SERDE 'org.apache.hadoop.hive.serde2.lazy.LazySimpleSerDe'\n",
    "    WITH SERDEPROPERTIES ('field.delim' = ',')\n",
    "    STORED AS INPUTFORMAT 'org.apache.hadoop.mapred.TextInputFormat' OUTPUTFORMAT 'org.apache.hadoop.hive.ql.io.HiveIgnoreKeyTextOutputFormat'\n",
    "    LOCATION 's3://itam-analytics-thmrudolf/hw06/raw/exchange/'\n",
    "    TBLPROPERTIES ('classification' = 'csv', \"skip.header.line.count\"=\"1\");\n",
    "'''"
   ]
  },
  {
   "cell_type": "code",
   "execution_count": null,
   "metadata": {},
   "outputs": [
    {
     "data": {
      "text/html": [
       "<div>\n",
       "<style scoped>\n",
       "    .dataframe tbody tr th:only-of-type {\n",
       "        vertical-align: middle;\n",
       "    }\n",
       "\n",
       "    .dataframe tbody tr th {\n",
       "        vertical-align: top;\n",
       "    }\n",
       "\n",
       "    .dataframe thead th {\n",
       "        text-align: right;\n",
       "    }\n",
       "</style>\n",
       "<table border=\"1\" class=\"dataframe\">\n",
       "  <thead>\n",
       "    <tr style=\"text-align: right;\">\n",
       "      <th></th>\n",
       "    </tr>\n",
       "  </thead>\n",
       "  <tbody>\n",
       "  </tbody>\n",
       "</table>\n",
       "</div>"
      ],
      "text/plain": [
       "Empty DataFrame\n",
       "Columns: []\n",
       "Index: []"
      ]
     },
     "execution_count": 188,
     "metadata": {},
     "output_type": "execute_result"
    }
   ],
   "source": [
    "wr.athena.read_sql_query(\n",
    "    query, \n",
    "    database=\"hw06\", \n",
    "    ctas_approach=False, \n",
    "    boto3_session=session\n",
    ")"
   ]
  },
  {
   "cell_type": "markdown",
   "metadata": {},
   "source": [
    "## c) Transform"
   ]
  },
  {
   "cell_type": "code",
   "execution_count": null,
   "metadata": {},
   "outputs": [
    {
     "data": {
      "text/html": [
       "<div>\n",
       "<style scoped>\n",
       "    .dataframe tbody tr th:only-of-type {\n",
       "        vertical-align: middle;\n",
       "    }\n",
       "\n",
       "    .dataframe tbody tr th {\n",
       "        vertical-align: top;\n",
       "    }\n",
       "\n",
       "    .dataframe thead th {\n",
       "        text-align: right;\n",
       "    }\n",
       "</style>\n",
       "<table border=\"1\" class=\"dataframe\">\n",
       "  <thead>\n",
       "    <tr style=\"text-align: right;\">\n",
       "      <th></th>\n",
       "    </tr>\n",
       "  </thead>\n",
       "  <tbody>\n",
       "  </tbody>\n",
       "</table>\n",
       "</div>"
      ],
      "text/plain": [
       "Empty DataFrame\n",
       "Columns: []\n",
       "Index: []"
      ]
     },
     "execution_count": 74,
     "metadata": {},
     "output_type": "execute_result"
    },
    {
     "ename": "",
     "evalue": "",
     "output_type": "error",
     "traceback": [
      "\u001b[1;31mnotebook controller is DISPOSED. \n",
      "\u001b[1;31mView Jupyter <a href='command:jupyter.viewOutput'>log</a> for further details."
     ]
    },
    {
     "ename": "",
     "evalue": "",
     "output_type": "error",
     "traceback": [
      "\u001b[1;31mnotebook controller is DISPOSED. \n",
      "\u001b[1;31mView Jupyter <a href='command:jupyter.viewOutput'>log</a> for further details."
     ]
    }
   ],
   "source": [
    "query = '''\n",
    "    CREATE TABLE IF NOT EXISTS simpsons.guests_per_season AS (\n",
    "        SELECT \n",
    "            LPAD(a.season, 2, '0') AS season,\n",
    "            a.episodes,\n",
    "            a.viewer,\n",
    "            SUBSTRING(a.first_aired, 1, 4) AS year_aired,\n",
    "            b.guest_star\n",
    "        FROM simpsons.seasons AS a\n",
    "        LEFT JOIN simpsons.guests AS b\n",
    "        ON a.season = b.season\n",
    "    )\n",
    "'''\n",
    "\n",
    "wr.athena.read_sql_query(\n",
    "    query, \n",
    "    database=\"simpsons\", \n",
    "    ctas_approach=False,\n",
    "    boto3_session=session\n",
    ")"
   ]
  },
  {
   "cell_type": "markdown",
   "metadata": {},
   "source": [
    "## Analytics"
   ]
  },
  {
   "cell_type": "code",
   "execution_count": null,
   "metadata": {},
   "outputs": [
    {
     "ename": "",
     "evalue": "",
     "output_type": "error",
     "traceback": [
      "\u001b[1;31mnotebook controller is DISPOSED. \n",
      "\u001b[1;31mView Jupyter <a href='command:jupyter.viewOutput'>log</a> for further details."
     ]
    },
    {
     "ename": "",
     "evalue": "",
     "output_type": "error",
     "traceback": [
      "\u001b[1;31mnotebook controller is DISPOSED. \n",
      "\u001b[1;31mView Jupyter <a href='command:jupyter.viewOutput'>log</a> for further details."
     ]
    }
   ],
   "source": [
    "query = '''SELECT * FROM simpsons.guests_per_season'''"
   ]
  },
  {
   "cell_type": "code",
   "execution_count": null,
   "metadata": {},
   "outputs": [
    {
     "ename": "",
     "evalue": "",
     "output_type": "error",
     "traceback": [
      "\u001b[1;31mnotebook controller is DISPOSED. \n",
      "\u001b[1;31mView Jupyter <a href='command:jupyter.viewOutput'>log</a> for further details."
     ]
    },
    {
     "ename": "",
     "evalue": "",
     "output_type": "error",
     "traceback": [
      "\u001b[1;31mnotebook controller is DISPOSED. \n",
      "\u001b[1;31mView Jupyter <a href='command:jupyter.viewOutput'>log</a> for further details."
     ]
    }
   ],
   "source": [
    "tbl_guests_per_season = wr.athena.read_sql_query(\n",
    "    query, \n",
    "    database=\"simpsons\", \n",
    "    ctas_approach=False,\n",
    "    boto3_session=session\n",
    ")"
   ]
  },
  {
   "cell_type": "code",
   "execution_count": null,
   "metadata": {},
   "outputs": [
    {
     "data": {
      "text/html": [
       "<div>\n",
       "<style scoped>\n",
       "    .dataframe tbody tr th:only-of-type {\n",
       "        vertical-align: middle;\n",
       "    }\n",
       "\n",
       "    .dataframe tbody tr th {\n",
       "        vertical-align: top;\n",
       "    }\n",
       "\n",
       "    .dataframe thead th {\n",
       "        text-align: right;\n",
       "    }\n",
       "</style>\n",
       "<table border=\"1\" class=\"dataframe\">\n",
       "  <thead>\n",
       "    <tr style=\"text-align: right;\">\n",
       "      <th></th>\n",
       "      <th>season</th>\n",
       "      <th>episodes</th>\n",
       "      <th>viewer</th>\n",
       "      <th>year_aired</th>\n",
       "      <th>guest_star</th>\n",
       "    </tr>\n",
       "  </thead>\n",
       "  <tbody>\n",
       "    <tr>\n",
       "      <th>0</th>\n",
       "      <td>01</td>\n",
       "      <td>13</td>\n",
       "      <td>14.5</td>\n",
       "      <td>1989</td>\n",
       "      <td>0</td>\n",
       "    </tr>\n",
       "    <tr>\n",
       "      <th>1</th>\n",
       "      <td>02</td>\n",
       "      <td>22</td>\n",
       "      <td>8.0</td>\n",
       "      <td>1990</td>\n",
       "      <td>0</td>\n",
       "    </tr>\n",
       "    <tr>\n",
       "      <th>2</th>\n",
       "      <td>03</td>\n",
       "      <td>24</td>\n",
       "      <td>0</td>\n",
       "      <td>1991</td>\n",
       "      <td>0</td>\n",
       "    </tr>\n",
       "    <tr>\n",
       "      <th>3</th>\n",
       "      <td>04</td>\n",
       "      <td>22</td>\n",
       "      <td>13.0</td>\n",
       "      <td>1992</td>\n",
       "      <td>0</td>\n",
       "    </tr>\n",
       "    <tr>\n",
       "      <th>4</th>\n",
       "      <td>05</td>\n",
       "      <td>22</td>\n",
       "      <td>0</td>\n",
       "      <td>1993</td>\n",
       "      <td>0</td>\n",
       "    </tr>\n",
       "    <tr>\n",
       "      <th>...</th>\n",
       "      <td>...</td>\n",
       "      <td>...</td>\n",
       "      <td>...</td>\n",
       "      <td>...</td>\n",
       "      <td>...</td>\n",
       "    </tr>\n",
       "    <tr>\n",
       "      <th>761</th>\n",
       "      <td>34</td>\n",
       "      <td>22</td>\n",
       "      <td>0.65</td>\n",
       "      <td>2022</td>\n",
       "      <td>Anna Faris</td>\n",
       "    </tr>\n",
       "    <tr>\n",
       "      <th>762</th>\n",
       "      <td>34</td>\n",
       "      <td>22</td>\n",
       "      <td>0.65</td>\n",
       "      <td>2022</td>\n",
       "      <td>Joe Mantegna</td>\n",
       "    </tr>\n",
       "    <tr>\n",
       "      <th>763</th>\n",
       "      <td>34</td>\n",
       "      <td>22</td>\n",
       "      <td>0.65</td>\n",
       "      <td>2022</td>\n",
       "      <td>Jane Kaczmarek</td>\n",
       "    </tr>\n",
       "    <tr>\n",
       "      <th>764</th>\n",
       "      <td>34</td>\n",
       "      <td>22</td>\n",
       "      <td>0.65</td>\n",
       "      <td>2022</td>\n",
       "      <td>Jay Pharoah</td>\n",
       "    </tr>\n",
       "    <tr>\n",
       "      <th>765</th>\n",
       "      <td>34</td>\n",
       "      <td>22</td>\n",
       "      <td>0.65</td>\n",
       "      <td>2022</td>\n",
       "      <td>Joe Mantegna</td>\n",
       "    </tr>\n",
       "  </tbody>\n",
       "</table>\n",
       "<p>766 rows × 5 columns</p>\n",
       "</div>"
      ],
      "text/plain": [
       "    season episodes viewer year_aired      guest_star\n",
       "0       01       13   14.5       1989               0\n",
       "1       02       22    8.0       1990               0\n",
       "2       03       24      0       1991               0\n",
       "3       04       22   13.0       1992               0\n",
       "4       05       22      0       1993               0\n",
       "..     ...      ...    ...        ...             ...\n",
       "761     34       22   0.65       2022      Anna Faris\n",
       "762     34       22   0.65       2022    Joe Mantegna\n",
       "763     34       22   0.65       2022  Jane Kaczmarek\n",
       "764     34       22   0.65       2022     Jay Pharoah\n",
       "765     34       22   0.65       2022    Joe Mantegna\n",
       "\n",
       "[766 rows x 5 columns]"
      ]
     },
     "execution_count": 88,
     "metadata": {},
     "output_type": "execute_result"
    },
    {
     "ename": "",
     "evalue": "",
     "output_type": "error",
     "traceback": [
      "\u001b[1;31mnotebook controller is DISPOSED. \n",
      "\u001b[1;31mView Jupyter <a href='command:jupyter.viewOutput'>log</a> for further details."
     ]
    },
    {
     "ename": "",
     "evalue": "",
     "output_type": "error",
     "traceback": [
      "\u001b[1;31mnotebook controller is DISPOSED. \n",
      "\u001b[1;31mView Jupyter <a href='command:jupyter.viewOutput'>log</a> for further details."
     ]
    }
   ],
   "source": [
    "tbl_guests_per_season.fillna('0')"
   ]
  },
  {
   "cell_type": "code",
   "execution_count": null,
   "metadata": {},
   "outputs": [
    {
     "data": {
      "text/html": [
       "<div>\n",
       "<style scoped>\n",
       "    .dataframe tbody tr th:only-of-type {\n",
       "        vertical-align: middle;\n",
       "    }\n",
       "\n",
       "    .dataframe tbody tr th {\n",
       "        vertical-align: top;\n",
       "    }\n",
       "\n",
       "    .dataframe thead th {\n",
       "        text-align: right;\n",
       "    }\n",
       "</style>\n",
       "<table border=\"1\" class=\"dataframe\">\n",
       "  <thead>\n",
       "    <tr style=\"text-align: right;\">\n",
       "      <th></th>\n",
       "      <th>season</th>\n",
       "      <th>year_aired</th>\n",
       "      <th>num_guests</th>\n",
       "      <th>viewers</th>\n",
       "    </tr>\n",
       "  </thead>\n",
       "  <tbody>\n",
       "    <tr>\n",
       "      <th>0</th>\n",
       "      <td>01</td>\n",
       "      <td>1989</td>\n",
       "      <td>0</td>\n",
       "      <td>14.5</td>\n",
       "    </tr>\n",
       "    <tr>\n",
       "      <th>1</th>\n",
       "      <td>02</td>\n",
       "      <td>1990</td>\n",
       "      <td>0</td>\n",
       "      <td>8.0</td>\n",
       "    </tr>\n",
       "    <tr>\n",
       "      <th>2</th>\n",
       "      <td>03</td>\n",
       "      <td>1991</td>\n",
       "      <td>0</td>\n",
       "      <td>0.0</td>\n",
       "    </tr>\n",
       "    <tr>\n",
       "      <th>3</th>\n",
       "      <td>04</td>\n",
       "      <td>1992</td>\n",
       "      <td>0</td>\n",
       "      <td>13.0</td>\n",
       "    </tr>\n",
       "    <tr>\n",
       "      <th>4</th>\n",
       "      <td>05</td>\n",
       "      <td>1993</td>\n",
       "      <td>0</td>\n",
       "      <td>0.0</td>\n",
       "    </tr>\n",
       "    <tr>\n",
       "      <th>5</th>\n",
       "      <td>06</td>\n",
       "      <td>1994</td>\n",
       "      <td>0</td>\n",
       "      <td>0.0</td>\n",
       "    </tr>\n",
       "    <tr>\n",
       "      <th>6</th>\n",
       "      <td>07</td>\n",
       "      <td>1995</td>\n",
       "      <td>0</td>\n",
       "      <td>0.0</td>\n",
       "    </tr>\n",
       "    <tr>\n",
       "      <th>7</th>\n",
       "      <td>08</td>\n",
       "      <td>1996</td>\n",
       "      <td>0</td>\n",
       "      <td>0.0</td>\n",
       "    </tr>\n",
       "    <tr>\n",
       "      <th>8</th>\n",
       "      <td>09</td>\n",
       "      <td>1997</td>\n",
       "      <td>0</td>\n",
       "      <td>9.2</td>\n",
       "    </tr>\n",
       "    <tr>\n",
       "      <th>9</th>\n",
       "      <td>10</td>\n",
       "      <td>1998</td>\n",
       "      <td>0</td>\n",
       "      <td>0.0</td>\n",
       "    </tr>\n",
       "    <tr>\n",
       "      <th>10</th>\n",
       "      <td>11</td>\n",
       "      <td>1999</td>\n",
       "      <td>0</td>\n",
       "      <td>0.0</td>\n",
       "    </tr>\n",
       "    <tr>\n",
       "      <th>11</th>\n",
       "      <td>12</td>\n",
       "      <td>2000</td>\n",
       "      <td>0</td>\n",
       "      <td>0.0</td>\n",
       "    </tr>\n",
       "    <tr>\n",
       "      <th>12</th>\n",
       "      <td>13</td>\n",
       "      <td>2001</td>\n",
       "      <td>0</td>\n",
       "      <td>0.0</td>\n",
       "    </tr>\n",
       "    <tr>\n",
       "      <th>13</th>\n",
       "      <td>14</td>\n",
       "      <td>2002</td>\n",
       "      <td>0</td>\n",
       "      <td>0.0</td>\n",
       "    </tr>\n",
       "    <tr>\n",
       "      <th>14</th>\n",
       "      <td>15</td>\n",
       "      <td>2003</td>\n",
       "      <td>0</td>\n",
       "      <td>0.0</td>\n",
       "    </tr>\n",
       "    <tr>\n",
       "      <th>15</th>\n",
       "      <td>16</td>\n",
       "      <td>2004</td>\n",
       "      <td>0</td>\n",
       "      <td>0.0</td>\n",
       "    </tr>\n",
       "    <tr>\n",
       "      <th>16</th>\n",
       "      <td>17</td>\n",
       "      <td>2005</td>\n",
       "      <td>0</td>\n",
       "      <td>3.2</td>\n",
       "    </tr>\n",
       "    <tr>\n",
       "      <th>17</th>\n",
       "      <td>18</td>\n",
       "      <td>2006</td>\n",
       "      <td>0</td>\n",
       "      <td>4.1</td>\n",
       "    </tr>\n",
       "    <tr>\n",
       "      <th>18</th>\n",
       "      <td>19</td>\n",
       "      <td>2007</td>\n",
       "      <td>0</td>\n",
       "      <td>0.0</td>\n",
       "    </tr>\n",
       "    <tr>\n",
       "      <th>19</th>\n",
       "      <td>20</td>\n",
       "      <td>2008</td>\n",
       "      <td>0</td>\n",
       "      <td>0.0</td>\n",
       "    </tr>\n",
       "  </tbody>\n",
       "</table>\n",
       "</div>"
      ],
      "text/plain": [
       "   season year_aired  num_guests  viewers\n",
       "0      01       1989           0     14.5\n",
       "1      02       1990           0      8.0\n",
       "2      03       1991           0      0.0\n",
       "3      04       1992           0     13.0\n",
       "4      05       1993           0      0.0\n",
       "5      06       1994           0      0.0\n",
       "6      07       1995           0      0.0\n",
       "7      08       1996           0      0.0\n",
       "8      09       1997           0      9.2\n",
       "9      10       1998           0      0.0\n",
       "10     11       1999           0      0.0\n",
       "11     12       2000           0      0.0\n",
       "12     13       2001           0      0.0\n",
       "13     14       2002           0      0.0\n",
       "14     15       2003           0      0.0\n",
       "15     16       2004           0      0.0\n",
       "16     17       2005           0      3.2\n",
       "17     18       2006           0      4.1\n",
       "18     19       2007           0      0.0\n",
       "19     20       2008           0      0.0"
      ]
     },
     "execution_count": 97,
     "metadata": {},
     "output_type": "execute_result"
    },
    {
     "ename": "",
     "evalue": "",
     "output_type": "error",
     "traceback": [
      "\u001b[1;31mnotebook controller is DISPOSED. \n",
      "\u001b[1;31mView Jupyter <a href='command:jupyter.viewOutput'>log</a> for further details."
     ]
    },
    {
     "ename": "",
     "evalue": "",
     "output_type": "error",
     "traceback": [
      "\u001b[1;31mnotebook controller is DISPOSED. \n",
      "\u001b[1;31mView Jupyter <a href='command:jupyter.viewOutput'>log</a> for further details."
     ]
    }
   ],
   "source": [
    "tbl_seasons_with_no_guests = (\n",
    "    tbl_guests_per_season\n",
    "        .query('guest_star.isna()')\n",
    "        .drop_duplicates()\n",
    "        .assign(num_guests = 0)\n",
    "        .rename(columns={'viewer': 'viewers'})\n",
    "        .filter(['season', 'year_aired', 'num_guests','viewers'])\n",
    "        .fillna('0')\n",
    "        .assign(viewers = lambda x: x.viewers.astype(float))\n",
    ")\n",
    "tbl_seasons_with_no_guests"
   ]
  },
  {
   "cell_type": "code",
   "execution_count": null,
   "metadata": {},
   "outputs": [
    {
     "data": {
      "text/html": [
       "<div>\n",
       "<style scoped>\n",
       "    .dataframe tbody tr th:only-of-type {\n",
       "        vertical-align: middle;\n",
       "    }\n",
       "\n",
       "    .dataframe tbody tr th {\n",
       "        vertical-align: top;\n",
       "    }\n",
       "\n",
       "    .dataframe thead th {\n",
       "        text-align: right;\n",
       "    }\n",
       "</style>\n",
       "<table border=\"1\" class=\"dataframe\">\n",
       "  <thead>\n",
       "    <tr style=\"text-align: right;\">\n",
       "      <th></th>\n",
       "      <th>season</th>\n",
       "      <th>year_aired</th>\n",
       "      <th>num_guests</th>\n",
       "      <th>viewers</th>\n",
       "    </tr>\n",
       "  </thead>\n",
       "  <tbody>\n",
       "    <tr>\n",
       "      <th>0</th>\n",
       "      <td>21</td>\n",
       "      <td>2009</td>\n",
       "      <td>49</td>\n",
       "      <td>3.4</td>\n",
       "    </tr>\n",
       "    <tr>\n",
       "      <th>1</th>\n",
       "      <td>22</td>\n",
       "      <td>2010</td>\n",
       "      <td>61</td>\n",
       "      <td>3.3</td>\n",
       "    </tr>\n",
       "    <tr>\n",
       "      <th>2</th>\n",
       "      <td>23</td>\n",
       "      <td>2011</td>\n",
       "      <td>58</td>\n",
       "      <td>3.3</td>\n",
       "    </tr>\n",
       "    <tr>\n",
       "      <th>3</th>\n",
       "      <td>24</td>\n",
       "      <td>2012</td>\n",
       "      <td>65</td>\n",
       "      <td>2.9</td>\n",
       "    </tr>\n",
       "    <tr>\n",
       "      <th>4</th>\n",
       "      <td>25</td>\n",
       "      <td>2013</td>\n",
       "      <td>44</td>\n",
       "      <td>0.0</td>\n",
       "    </tr>\n",
       "  </tbody>\n",
       "</table>\n",
       "</div>"
      ],
      "text/plain": [
       "  season year_aired  num_guests  viewers\n",
       "0     21       2009          49      3.4\n",
       "1     22       2010          61      3.3\n",
       "2     23       2011          58      3.3\n",
       "3     24       2012          65      2.9\n",
       "4     25       2013          44      0.0"
      ]
     },
     "execution_count": 99,
     "metadata": {},
     "output_type": "execute_result"
    },
    {
     "ename": "",
     "evalue": "",
     "output_type": "error",
     "traceback": [
      "\u001b[1;31mnotebook controller is DISPOSED. \n",
      "\u001b[1;31mView Jupyter <a href='command:jupyter.viewOutput'>log</a> for further details."
     ]
    },
    {
     "ename": "",
     "evalue": "",
     "output_type": "error",
     "traceback": [
      "\u001b[1;31mnotebook controller is DISPOSED. \n",
      "\u001b[1;31mView Jupyter <a href='command:jupyter.viewOutput'>log</a> for further details."
     ]
    }
   ],
   "source": [
    "tbl_seasons_with_guests = (\n",
    "    # Calculate n_guests\n",
    "    tbl_guests_per_season\n",
    "        .assign(viewer = lambda df_: df_.viewer.astype('float'))\n",
    "        .query('~guest_star.isna()')\n",
    "        .groupby(['season', 'year_aired'])\n",
    "        .size()\n",
    "        .to_frame(name = 'num_guests')\n",
    "        .reset_index()\n",
    "        .merge(\n",
    "            # Calculate viewers\n",
    "            tbl_guests_per_season\n",
    "                .assign(viewer = lambda df_: df_.viewer.astype('float'))\n",
    "                .query('~guest_star.isna()')\n",
    "                .groupby(['season', 'year_aired'])\n",
    "                ['viewer']\n",
    "                .mean()\n",
    "                .to_frame(name = 'viewers')\n",
    "                .reset_index()\n",
    "        )\n",
    "        .fillna(0)\n",
    ")\n",
    "tbl_seasons_with_guests.head()"
   ]
  },
  {
   "cell_type": "code",
   "execution_count": null,
   "metadata": {},
   "outputs": [
    {
     "data": {
      "text/html": [
       "<div>\n",
       "<style scoped>\n",
       "    .dataframe tbody tr th:only-of-type {\n",
       "        vertical-align: middle;\n",
       "    }\n",
       "\n",
       "    .dataframe tbody tr th {\n",
       "        vertical-align: top;\n",
       "    }\n",
       "\n",
       "    .dataframe thead th {\n",
       "        text-align: right;\n",
       "    }\n",
       "</style>\n",
       "<table border=\"1\" class=\"dataframe\">\n",
       "  <thead>\n",
       "    <tr style=\"text-align: right;\">\n",
       "      <th></th>\n",
       "      <th>season</th>\n",
       "      <th>year_aired</th>\n",
       "      <th>num_guests</th>\n",
       "      <th>viewers</th>\n",
       "    </tr>\n",
       "  </thead>\n",
       "  <tbody>\n",
       "    <tr>\n",
       "      <th>0</th>\n",
       "      <td>01</td>\n",
       "      <td>1989</td>\n",
       "      <td>0.0</td>\n",
       "      <td>14.5</td>\n",
       "    </tr>\n",
       "    <tr>\n",
       "      <th>1</th>\n",
       "      <td>02</td>\n",
       "      <td>1990</td>\n",
       "      <td>0.0</td>\n",
       "      <td>8.0</td>\n",
       "    </tr>\n",
       "    <tr>\n",
       "      <th>2</th>\n",
       "      <td>03</td>\n",
       "      <td>1991</td>\n",
       "      <td>0.0</td>\n",
       "      <td>0.0</td>\n",
       "    </tr>\n",
       "    <tr>\n",
       "      <th>3</th>\n",
       "      <td>04</td>\n",
       "      <td>1992</td>\n",
       "      <td>0.0</td>\n",
       "      <td>13.0</td>\n",
       "    </tr>\n",
       "    <tr>\n",
       "      <th>4</th>\n",
       "      <td>05</td>\n",
       "      <td>1993</td>\n",
       "      <td>0.0</td>\n",
       "      <td>0.0</td>\n",
       "    </tr>\n",
       "  </tbody>\n",
       "</table>\n",
       "</div>"
      ],
      "text/plain": [
       "  season year_aired  num_guests  viewers\n",
       "0     01       1989         0.0     14.5\n",
       "1     02       1990         0.0      8.0\n",
       "2     03       1991         0.0      0.0\n",
       "3     04       1992         0.0     13.0\n",
       "4     05       1993         0.0      0.0"
      ]
     },
     "execution_count": 100,
     "metadata": {},
     "output_type": "execute_result"
    },
    {
     "ename": "",
     "evalue": "",
     "output_type": "error",
     "traceback": [
      "\u001b[1;31mnotebook controller is DISPOSED. \n",
      "\u001b[1;31mView Jupyter <a href='command:jupyter.viewOutput'>log</a> for further details."
     ]
    },
    {
     "ename": "",
     "evalue": "",
     "output_type": "error",
     "traceback": [
      "\u001b[1;31mnotebook controller is DISPOSED. \n",
      "\u001b[1;31mView Jupyter <a href='command:jupyter.viewOutput'>log</a> for further details."
     ]
    }
   ],
   "source": [
    "tbl_season_guests = (\n",
    "    pd.concat([tbl_seasons_with_no_guests, tbl_seasons_with_guests], ignore_index=True)\n",
    "        .sort_values(['season', 'year_aired'])\n",
    "        .assign(\n",
    "            num_guests=lambda df_: df_.num_guests.astype('float'), \n",
    "            viewers=lambda df_: df_.viewers.astype('float'))\n",
    "        )\n",
    "tbl_season_guests.head()"
   ]
  },
  {
   "cell_type": "code",
   "execution_count": null,
   "metadata": {},
   "outputs": [
    {
     "data": {
      "image/png": "[encoded data removed]",
      "text/plain": [
       "<Figure size 1200x600 with 1 Axes>"
      ]
     },
     "metadata": {},
     "output_type": "display_data"
    },
    {
     "ename": "",
     "evalue": "",
     "output_type": "error",
     "traceback": [
      "\u001b[1;31mnotebook controller is DISPOSED. \n",
      "\u001b[1;31mView Jupyter <a href='command:jupyter.viewOutput'>log</a> for further details."
     ]
    },
    {
     "ename": "",
     "evalue": "",
     "output_type": "error",
     "traceback": [
      "\u001b[1;31mnotebook controller is DISPOSED. \n",
      "\u001b[1;31mView Jupyter <a href='command:jupyter.viewOutput'>log</a> for further details."
     ]
    }
   ],
   "source": [
    "import matplotlib.pyplot as plt\n",
    "fig, ax = plt.subplots(figsize = (12, 6))\n",
    "tbl_season_guests.plot(\n",
    "    kind='bar', \n",
    "    x='year_aired', \n",
    "    y='num_guests', \n",
    "    ax = ax\n",
    ")\n",
    "plt.title(\"Invitados en las temporadas de los Simpsons\")\n",
    "plt.ylabel('invitados')\n",
    "plt.xlabel('año de la temporada')\n",
    "plt.show()"
   ]
  },
  {
   "cell_type": "code",
   "execution_count": null,
   "metadata": {},
   "outputs": [
    {
     "data": {
      "image/png": "[encoded data removed]",
      "text/plain": [
       "<Figure size 1200x600 with 2 Axes>"
      ]
     },
     "metadata": {},
     "output_type": "display_data"
    },
    {
     "ename": "",
     "evalue": "",
     "output_type": "error",
     "traceback": [
      "\u001b[1;31mnotebook controller is DISPOSED. \n",
      "\u001b[1;31mView Jupyter <a href='command:jupyter.viewOutput'>log</a> for further details."
     ]
    },
    {
     "ename": "",
     "evalue": "",
     "output_type": "error",
     "traceback": [
      "\u001b[1;31mnotebook controller is DISPOSED. \n",
      "\u001b[1;31mView Jupyter <a href='command:jupyter.viewOutput'>log</a> for further details."
     ]
    }
   ],
   "source": [
    "fig, ax = plt.subplots(figsize = (12, 6))\n",
    "(tbl_season_guests\n",
    "    .assign(year_aired = lambda df_: df_.year_aired.astype('int'))\n",
    "    .query('year_aired > 2009')\n",
    "    .plot(\n",
    "        kind='scatter', \n",
    "        x='num_guests', \n",
    "        y='viewers', \n",
    "        c='year_aired', \n",
    "        cmap='Blues', \n",
    "        ax=ax)\n",
    "    )\n",
    "plt.title(\"Relación invitados y rating millones de personas\")\n",
    "plt.ylabel('rating en millones de personas')\n",
    "plt.xlabel('invitados')\n",
    "plt.show()"
   ]
  }
 ],
 "metadata": {
  "kernelspec": {
   "display_name": "venv_adgdhw06",
   "language": "python",
   "name": "python3"
  },
  "language_info": {
   "codemirror_mode": {
    "name": "ipython",
    "version": 3
   },
   "file_extension": ".py",
   "mimetype": "text/x-python",
   "name": "python",
   "nbconvert_exporter": "python",
   "pygments_lexer": "ipython3",
   "version": "3.11.11"
  }
 },
 "nbformat": 4,
 "nbformat_minor": 4
}
