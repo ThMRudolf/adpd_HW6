{
 "cells": [
  {
   "cell_type": "markdown",
   "metadata": {},
   "source": [
    "# HW 06: ETLs y ELTs on MBanco de Mexico and INEGI\n",
    "\n",
    "## Introducción\n",
    "\n",
    "\n",
    "## Objetivo\n",
    "\n",
    "* Mostrar cómo se crea un ETL\n",
    "* Mostrar cómo se crea un ELT\n",
    "* Mostrar cómo se utilizan los servicios Amazon S3, AWS Glue y Amazon Athena \n",
    "para tareas de ingeniería de datos y analítica.\n",
    "\n",
    "## Herramientas que aprenderas a utilizar:\n",
    "\n",
    "#"
   ]
  },
  {
   "cell_type": "markdown",
   "metadata": {},
   "source": [
    "## ETL\n",
    "\n",
    "\n",
    "El objetivo de esta primera parte es sacar de los siguientes links la siguiente\n",
    "información:\n",
    "\n",
    "* [Banco de Mexico mxn/uds](https://www.banxico.org.mx/tipcamb/tipCamIHAction.do)\n",
    "* [Banco de Mexico tase de interes](https://www.banxico.org.mx/apps/gc/tasas-interes-grafica-coyuntu.html)\n",
    "* [INEGI](https://www.inegi.org.mx/temas/inpc/)\n",
    "\n"
   ]
  },
  {
   "cell_type": "markdown",
   "metadata": {},
   "source": [
    "### a) Extract\n",
    "\n",
    "Lo que queremos es automatizar la extracción de datos, y no hacer un típico\n",
    "*copy and paste*, para lo cual lo vamos a implementar un en un webscrapper, que\n",
    "haga un *crawl* sobre las tablas del HTML. \n",
    "\n",
    "\n",
    "* [BeautifulSoup](https://beautiful-soup-4.readthedocs.io/en/latest/#)\n",
    "* [Selenium](https://www.selenium.dev/)"
   ]
  },
  {
   "cell_type": "code",
   "execution_count": 1,
   "metadata": {},
   "outputs": [],
   "source": [
    "# Importar librerías\n",
    "import os\n",
    "import pandas as pd\n",
    "import numpy as np\n",
    "\n",
    "import requests\n",
    "import json\n",
    "from sie_banxico import SIEBanxico"
   ]
  },
  {
   "cell_type": "markdown",
   "metadata": {},
   "source": [
    "#### Tabla del Banco de Mexico y INEGI\n",
    "\n",
    "Para extraer la información de la tabla del Banco de Mexico y del INEGI vamos a la fucente de datos y utilizamos la función `pandas.read_html` para extraer la información de la tabla."
   ]
  },
  {
   "cell_type": "code",
   "execution_count": 2,
   "metadata": {},
   "outputs": [],
   "source": [
    "def download_bmx_serie(serie, fechainicio, fechafin, token):\n",
    "    \"\"\"\n",
    "    Descarga una serie de datos del Banco de México (Banxico) utilizando su API.\n",
    "\n",
    "    Parameters\n",
    "    ----------\n",
    "    serie : str\n",
    "        El identificador de la serie de datos a descargar.\n",
    "    fechainicio : str\n",
    "        La fecha de inicio del rango de datos en formato 'YYYY-MM-DD'.\n",
    "    fechafin : str\n",
    "        La fecha de fin del rango de datos en formato 'YYYY-MM-DD'.\n",
    "    token : str\n",
    "        El token de autenticación para acceder a la API de Banxico.\n",
    "\n",
    "    Returns\n",
    "    -------\n",
    "    pd.DataFrame\n",
    "        Un DataFrame de pandas con los datos de la serie solicitada. La columna 'dato' contiene los valores de la serie y la columna 'fecha' contiene las fechas correspondientes.\n",
    "    \n",
    "    Raises\n",
    "    ------\n",
    "    ValueError\n",
    "        Si la respuesta de la API no es exitosa (código de estado diferente de 200).\n",
    "    \"\"\"\n",
    "    url = f'https://www.banxico.org.mx/SieAPIRest/service/v1/series/{serie}/datos/{fechainicio}/{fechafin}'\n",
    "    print(url)\n",
    "    headers = {'Bmx-Token': token}\n",
    "    response = requests.get(url, headers=headers)\n",
    "    status = response.status_code\n",
    "    if status != 200:\n",
    "        raise ValueError(f'Error en la consulta, codigo {status}')\n",
    "    raw_data = response.json()\n",
    "    data = raw_data['bmx']['series'][0]['datos']\n",
    "    df = pd.DataFrame(data)\n",
    "    df['dato'] = df['dato'].apply(lambda x: float(x))\n",
    "    df['fecha'] = pd.to_datetime(df['fecha'], format='%d/%m/%Y')\n",
    "    df.set_index('fecha', inplace=True)\n",
    "    return df\n",
    "\n"
   ]
  },
  {
   "cell_type": "code",
   "execution_count": 3,
   "metadata": {},
   "outputs": [
    {
     "name": "stdout",
     "output_type": "stream",
     "text": [
      "https://www.banxico.org.mx/SieAPIRest/service/v1/series/SF60653/datos/2015-01-01/2025-03-15\n",
      "https://www.banxico.org.mx/SieAPIRest/service/v1/series/SF61745/datos/2015-01-01/2025-03-15\n"
     ]
    }
   ],
   "source": [
    "# Cargar variables de configuración\n",
    "import configparser\n",
    "config = configparser.ConfigParser()\n",
    "config.read('../../config.ini')\n",
    "\n",
    "BANXICO_TOKEN = \"98230f9bf97afa035012284a92d8fff12edd05c027bc2cde505c7ec1848533eb\" #config['TOKEN']['BANXICO_TOKEN']\n",
    "# get time series of exchange rate (mxn/usd) from Banxico\n",
    "# Download the information from PATH_BDM_P2D\n",
    "serie_exchange = 'SF60653'\n",
    "fechainicio = '2015-01-01'\n",
    "fechafin = '2025-03-15'\n",
    "df_mxn2usd = download_bmx_serie(serie_exchange, fechainicio, fechafin, BANXICO_TOKEN)\n",
    "df_mxn2usd.to_csv(\"../../data/raw/tipo_de_cambio.csv\", index=False)\n",
    "\n",
    "serie_interes = 'SF61745'\n",
    "df_interes = download_bmx_serie(serie_interes, fechainicio, fechafin, BANXICO_TOKEN)\n",
    "# get time series of exchange rate (mxn/usd) from Banxico\n",
    "# Save the dataframe to tipo_de_cambio.csv in data/raw directory\n",
    "df_interes.to_csv(\"../../data/raw/tasa_de_interes.csv\", index=False)"
   ]
  },
  {
   "cell_type": "code",
   "execution_count": 4,
   "metadata": {},
   "outputs": [
    {
     "name": "stdout",
     "output_type": "stream",
     "text": [
      "3716\n"
     ]
    },
    {
     "data": {
      "text/html": [
       "<div>\n",
       "<style scoped>\n",
       "    .dataframe tbody tr th:only-of-type {\n",
       "        vertical-align: middle;\n",
       "    }\n",
       "\n",
       "    .dataframe tbody tr th {\n",
       "        vertical-align: top;\n",
       "    }\n",
       "\n",
       "    .dataframe thead th {\n",
       "        text-align: right;\n",
       "    }\n",
       "</style>\n",
       "<table border=\"1\" class=\"dataframe\">\n",
       "  <thead>\n",
       "    <tr style=\"text-align: right;\">\n",
       "      <th></th>\n",
       "      <th>dato</th>\n",
       "      <th>fecha</th>\n",
       "    </tr>\n",
       "  </thead>\n",
       "  <tbody>\n",
       "    <tr>\n",
       "      <th>0</th>\n",
       "      <td>3.0</td>\n",
       "      <td>2015-01-01</td>\n",
       "    </tr>\n",
       "    <tr>\n",
       "      <th>1</th>\n",
       "      <td>3.0</td>\n",
       "      <td>2015-01-02</td>\n",
       "    </tr>\n",
       "    <tr>\n",
       "      <th>2</th>\n",
       "      <td>3.0</td>\n",
       "      <td>2015-01-03</td>\n",
       "    </tr>\n",
       "    <tr>\n",
       "      <th>3</th>\n",
       "      <td>3.0</td>\n",
       "      <td>2015-01-04</td>\n",
       "    </tr>\n",
       "    <tr>\n",
       "      <th>4</th>\n",
       "      <td>3.0</td>\n",
       "      <td>2015-01-05</td>\n",
       "    </tr>\n",
       "  </tbody>\n",
       "</table>\n",
       "</div>"
      ],
      "text/plain": [
       "   dato      fecha\n",
       "0   3.0 2015-01-01\n",
       "1   3.0 2015-01-02\n",
       "2   3.0 2015-01-03\n",
       "3   3.0 2015-01-04\n",
       "4   3.0 2015-01-05"
      ]
     },
     "execution_count": 4,
     "metadata": {},
     "output_type": "execute_result"
    }
   ],
   "source": [
    "print(df_interes.size)\n",
    "df_interes['fecha'] = df_interes.index\n",
    "df_interes.reset_index(drop=True, inplace=True)\n",
    "df_interes.head()"
   ]
  },
  {
   "cell_type": "code",
   "execution_count": 5,
   "metadata": {},
   "outputs": [
    {
     "name": "stdout",
     "output_type": "stream",
     "text": [
      "3727\n"
     ]
    },
    {
     "data": {
      "text/html": [
       "<div>\n",
       "<style scoped>\n",
       "    .dataframe tbody tr th:only-of-type {\n",
       "        vertical-align: middle;\n",
       "    }\n",
       "\n",
       "    .dataframe tbody tr th {\n",
       "        vertical-align: top;\n",
       "    }\n",
       "\n",
       "    .dataframe thead th {\n",
       "        text-align: right;\n",
       "    }\n",
       "</style>\n",
       "<table border=\"1\" class=\"dataframe\">\n",
       "  <thead>\n",
       "    <tr style=\"text-align: right;\">\n",
       "      <th></th>\n",
       "      <th>dato</th>\n",
       "      <th>fecha</th>\n",
       "    </tr>\n",
       "  </thead>\n",
       "  <tbody>\n",
       "    <tr>\n",
       "      <th>0</th>\n",
       "      <td>14.7348</td>\n",
       "      <td>2015-01-01</td>\n",
       "    </tr>\n",
       "    <tr>\n",
       "      <th>1</th>\n",
       "      <td>14.7348</td>\n",
       "      <td>2015-01-02</td>\n",
       "    </tr>\n",
       "    <tr>\n",
       "      <th>2</th>\n",
       "      <td>14.7414</td>\n",
       "      <td>2015-01-03</td>\n",
       "    </tr>\n",
       "    <tr>\n",
       "      <th>3</th>\n",
       "      <td>14.7414</td>\n",
       "      <td>2015-01-04</td>\n",
       "    </tr>\n",
       "    <tr>\n",
       "      <th>4</th>\n",
       "      <td>14.7414</td>\n",
       "      <td>2015-01-05</td>\n",
       "    </tr>\n",
       "  </tbody>\n",
       "</table>\n",
       "</div>"
      ],
      "text/plain": [
       "      dato      fecha\n",
       "0  14.7348 2015-01-01\n",
       "1  14.7348 2015-01-02\n",
       "2  14.7414 2015-01-03\n",
       "3  14.7414 2015-01-04\n",
       "4  14.7414 2015-01-05"
      ]
     },
     "execution_count": 5,
     "metadata": {},
     "output_type": "execute_result"
    }
   ],
   "source": [
    "print(df_mxn2usd.size)\n",
    "df_mxn2usd['fecha']=df_mxn2usd.index\n",
    "df_mxn2usd.reset_index(drop=True, inplace=True)\n",
    "df_mxn2usd.head()"
   ]
  },
  {
   "cell_type": "code",
   "execution_count": null,
   "metadata": {},
   "outputs": [],
   "source": [
    "# AP\n",
    "\n",
    "def download_inegi_serie(token, serie):\n",
    "    \"\"\"\n",
    "    Descarga una serie de datos del INEGI utilizando su API.\n",
    "\n",
    "    Parameters\n",
    "    ----------\n",
    "    token : str\n",
    "        El token de autenticación para acceder a la API de INEGI.\n",
    "    serie : str\n",
    "        El identificador de la serie de datos a descargar.\n",
    "\n",
    "    Returns\n",
    "    -------\n",
    "    pd.DataFrame\n",
    "        Un DataFrame de pandas con los datos de la serie solicitada. La columna 'OBS_VALUE' contiene los valores de la serie y la columna 'TIME_PERIOD' contiene los periodos correspondientes.\n",
    "    \n",
    "    Raises\n",
    "    ------\n",
    "    ValueError\n",
    "        Si la respuesta de la API no es exitosa (código de estado diferente de 200).\n",
    "    \"\"\"\n",
    "    url = f\"https://www.inegi.org.mx/app/api/indicadores/desarrolladores/jsonxml/INDICATOR/{serie}/es/0700/false/BIE/2.0/{token}?type=json\"\n",
    "    response = requests.get(url)\n",
    "    if response.status_code != 200:\n",
    "        raise ValueError(f'Error en la consulta, codigo {response.status_code}')\n",
    "    \n",
    "    data_general = response.text\n",
    "    flow_data = json.loads(data_general)\n",
    "\n",
    "    # Extract inflation data\n",
    "    inflation_series = flow_data['Series'][0]['OBSERVATIONS']\n",
    "    inflation_data = [(obs['TIME_PERIOD'], obs['OBS_VALUE']) for obs in inflation_series]\n",
    "\n",
    "    # Save the inflation data to a DataFrame\n",
    "    df_inflation = pd.DataFrame(inflation_data, columns=['TIME_PERIOD', 'OBS_VALUE'])\n",
    "    return df_inflation\n",
    "\n",
    "\n",
    "\n"
   ]
  },
  {
   "cell_type": "code",
   "execution_count": null,
   "metadata": {},
   "outputs": [],
   "source": [
    "# Call INEGI series\n",
    "#INEGI_TOKEN = config['TOKEN']['INEGI_TOKEN']\n",
    "INEGI_TOKEN = \"68ffaa78-1a6b-e3a6-c7cc-91d2c7a04426\"\n",
    "serie_inflation = \"910417\"\n",
    "df_inflation = download_inegi_serie(INEGI_TOKEN, serie_inflation)\n",
    "df_inflation.to_csv(\"../../data/raw/inflation.csv\", index=False)"
   ]
  },
  {
   "cell_type": "markdown",
   "metadata": {},
   "source": [
    "Observa que el scrapper regreso 14 tablas."
   ]
  },
  {
   "cell_type": "markdown",
   "metadata": {},
   "source": [
    "Puedes investigar que hay en cada una de las 14 tablas, para que identifiques\n",
    "dónde se encuentra la tabla que estamos buscando."
   ]
  },
  {
   "cell_type": "code",
   "execution_count": 8,
   "metadata": {
    "collapsed": true,
    "jupyter": {
     "outputs_hidden": true
    }
   },
   "outputs": [
    {
     "data": {
      "text/html": [
       "<div>\n",
       "<style scoped>\n",
       "    .dataframe tbody tr th:only-of-type {\n",
       "        vertical-align: middle;\n",
       "    }\n",
       "\n",
       "    .dataframe tbody tr th {\n",
       "        vertical-align: top;\n",
       "    }\n",
       "\n",
       "    .dataframe thead th {\n",
       "        text-align: right;\n",
       "    }\n",
       "</style>\n",
       "<table border=\"1\" class=\"dataframe\">\n",
       "  <thead>\n",
       "    <tr style=\"text-align: right;\">\n",
       "      <th></th>\n",
       "      <th>TIME_PERIOD</th>\n",
       "      <th>OBS_VALUE</th>\n",
       "    </tr>\n",
       "  </thead>\n",
       "  <tbody>\n",
       "    <tr>\n",
       "      <th>0</th>\n",
       "      <td>2025/02</td>\n",
       "      <td>-0.53</td>\n",
       "    </tr>\n",
       "    <tr>\n",
       "      <th>1</th>\n",
       "      <td>2025/01</td>\n",
       "      <td>-0.14</td>\n",
       "    </tr>\n",
       "    <tr>\n",
       "      <th>2</th>\n",
       "      <td>2024/12</td>\n",
       "      <td>5.95</td>\n",
       "    </tr>\n",
       "    <tr>\n",
       "      <th>3</th>\n",
       "      <td>2024/11</td>\n",
       "      <td>5.98</td>\n",
       "    </tr>\n",
       "    <tr>\n",
       "      <th>4</th>\n",
       "      <td>2024/10</td>\n",
       "      <td>4.18</td>\n",
       "    </tr>\n",
       "  </tbody>\n",
       "</table>\n",
       "</div>"
      ],
      "text/plain": [
       "  TIME_PERIOD OBS_VALUE\n",
       "0     2025/02     -0.53\n",
       "1     2025/01     -0.14\n",
       "2     2024/12      5.95\n",
       "3     2024/11      5.98\n",
       "4     2024/10      4.18"
      ]
     },
     "execution_count": 8,
     "metadata": {},
     "output_type": "execute_result"
    }
   ],
   "source": [
    "df_inflation.head()"
   ]
  },
  {
   "cell_type": "markdown",
   "metadata": {},
   "source": [
    "### b) Transform\n",
    "\n",
    "Transform the data in the same format: *period* and *value*"
   ]
  },
  {
   "cell_type": "code",
   "execution_count": 9,
   "metadata": {},
   "outputs": [
    {
     "name": "stdout",
     "output_type": "stream",
     "text": [
      "{'TIME_PERIOD': 'period', 'OBS_VALUE': 'inflation'}\n",
      "{'fecha': 'period', 'dato': 'exchange_rate'}\n",
      "{'fecha': 'period', 'dato': 'interes_rate'}\n"
     ]
    }
   ],
   "source": [
    "# Define un diccionario con los nombres limpios\n",
    "DICT_CLEAN_NAMES_INEGI = {\n",
    "    'TIME_PERIOD': 'period',\n",
    "    'OBS_VALUE': 'inflation'\n",
    "}\n",
    "print(DICT_CLEAN_NAMES_INEGI)\n",
    "\n",
    "DICT_CLEAN_NAMES_BANXICO_EXCHANGE = {\n",
    "    'fecha': 'period',\n",
    "    'dato': 'exchange_rate'\n",
    "}\n",
    "print(DICT_CLEAN_NAMES_BANXICO_EXCHANGE)\n",
    "\n",
    "DICT_CLEAN_NAMES_BANXICO_INTERES = {\n",
    "    'fecha': 'period',\n",
    "    'dato': 'interes_rate'\n",
    "}\n",
    "print(DICT_CLEAN_NAMES_BANXICO_INTERES)"
   ]
  },
  {
   "cell_type": "code",
   "execution_count": 10,
   "metadata": {},
   "outputs": [
    {
     "data": {
      "text/html": [
       "<div>\n",
       "<style scoped>\n",
       "    .dataframe tbody tr th:only-of-type {\n",
       "        vertical-align: middle;\n",
       "    }\n",
       "\n",
       "    .dataframe tbody tr th {\n",
       "        vertical-align: top;\n",
       "    }\n",
       "\n",
       "    .dataframe thead th {\n",
       "        text-align: right;\n",
       "    }\n",
       "</style>\n",
       "<table border=\"1\" class=\"dataframe\">\n",
       "  <thead>\n",
       "    <tr style=\"text-align: right;\">\n",
       "      <th></th>\n",
       "      <th>period</th>\n",
       "      <th>exchange_rate</th>\n",
       "    </tr>\n",
       "  </thead>\n",
       "  <tbody>\n",
       "    <tr>\n",
       "      <th>0</th>\n",
       "      <td>2015-01-01</td>\n",
       "      <td>14.7348</td>\n",
       "    </tr>\n",
       "    <tr>\n",
       "      <th>1</th>\n",
       "      <td>2015-01-02</td>\n",
       "      <td>14.7348</td>\n",
       "    </tr>\n",
       "    <tr>\n",
       "      <th>2</th>\n",
       "      <td>2015-01-03</td>\n",
       "      <td>14.7414</td>\n",
       "    </tr>\n",
       "    <tr>\n",
       "      <th>3</th>\n",
       "      <td>2015-01-04</td>\n",
       "      <td>14.7414</td>\n",
       "    </tr>\n",
       "    <tr>\n",
       "      <th>4</th>\n",
       "      <td>2015-01-05</td>\n",
       "      <td>14.7414</td>\n",
       "    </tr>\n",
       "  </tbody>\n",
       "</table>\n",
       "</div>"
      ],
      "text/plain": [
       "      period  exchange_rate\n",
       "0 2015-01-01        14.7348\n",
       "1 2015-01-02        14.7348\n",
       "2 2015-01-03        14.7414\n",
       "3 2015-01-04        14.7414\n",
       "4 2015-01-05        14.7414"
      ]
     },
     "execution_count": 10,
     "metadata": {},
     "output_type": "execute_result"
    }
   ],
   "source": [
    "# Aqui va el preprocesamiento: exchange rate\n",
    "df_mxn2usd_raw = (\n",
    "    df_mxn2usd\n",
    "        # Renombrar variables\n",
    "        .rename(columns = DICT_CLEAN_NAMES_BANXICO_EXCHANGE)\n",
    ")\n",
    "df_mxn2usd_raw = df_mxn2usd_raw[['period', 'exchange_rate']]    \n",
    "df_mxn2usd_raw.head()\n"
   ]
  },
  {
   "cell_type": "code",
   "execution_count": 11,
   "metadata": {},
   "outputs": [
    {
     "data": {
      "text/html": [
       "<div>\n",
       "<style scoped>\n",
       "    .dataframe tbody tr th:only-of-type {\n",
       "        vertical-align: middle;\n",
       "    }\n",
       "\n",
       "    .dataframe tbody tr th {\n",
       "        vertical-align: top;\n",
       "    }\n",
       "\n",
       "    .dataframe thead th {\n",
       "        text-align: right;\n",
       "    }\n",
       "</style>\n",
       "<table border=\"1\" class=\"dataframe\">\n",
       "  <thead>\n",
       "    <tr style=\"text-align: right;\">\n",
       "      <th></th>\n",
       "      <th>period</th>\n",
       "      <th>interes_rate</th>\n",
       "    </tr>\n",
       "  </thead>\n",
       "  <tbody>\n",
       "    <tr>\n",
       "      <th>0</th>\n",
       "      <td>2015-01-01</td>\n",
       "      <td>3.0</td>\n",
       "    </tr>\n",
       "    <tr>\n",
       "      <th>1</th>\n",
       "      <td>2015-01-02</td>\n",
       "      <td>3.0</td>\n",
       "    </tr>\n",
       "    <tr>\n",
       "      <th>2</th>\n",
       "      <td>2015-01-03</td>\n",
       "      <td>3.0</td>\n",
       "    </tr>\n",
       "    <tr>\n",
       "      <th>3</th>\n",
       "      <td>2015-01-04</td>\n",
       "      <td>3.0</td>\n",
       "    </tr>\n",
       "    <tr>\n",
       "      <th>4</th>\n",
       "      <td>2015-01-05</td>\n",
       "      <td>3.0</td>\n",
       "    </tr>\n",
       "  </tbody>\n",
       "</table>\n",
       "</div>"
      ],
      "text/plain": [
       "      period  interes_rate\n",
       "0 2015-01-01           3.0\n",
       "1 2015-01-02           3.0\n",
       "2 2015-01-03           3.0\n",
       "3 2015-01-04           3.0\n",
       "4 2015-01-05           3.0"
      ]
     },
     "execution_count": 11,
     "metadata": {},
     "output_type": "execute_result"
    }
   ],
   "source": [
    "# Aqui va el preprocesamiento: interes rate\n",
    "df_interes_raw = (\n",
    "    df_interes\n",
    "        # Renombrar variables\n",
    "        .rename(columns = DICT_CLEAN_NAMES_BANXICO_INTERES)\n",
    "        \n",
    ")\n",
    "df_interes_raw = df_interes_raw[['period', 'interes_rate']]\n",
    "df_interes_raw.head()"
   ]
  },
  {
   "cell_type": "markdown",
   "metadata": {},
   "source": [
    "Guarda los datos de guests en local."
   ]
  },
  {
   "cell_type": "code",
   "execution_count": 12,
   "metadata": {},
   "outputs": [
    {
     "data": {
      "text/html": [
       "<div>\n",
       "<style scoped>\n",
       "    .dataframe tbody tr th:only-of-type {\n",
       "        vertical-align: middle;\n",
       "    }\n",
       "\n",
       "    .dataframe tbody tr th {\n",
       "        vertical-align: top;\n",
       "    }\n",
       "\n",
       "    .dataframe thead th {\n",
       "        text-align: right;\n",
       "    }\n",
       "</style>\n",
       "<table border=\"1\" class=\"dataframe\">\n",
       "  <thead>\n",
       "    <tr style=\"text-align: right;\">\n",
       "      <th></th>\n",
       "      <th>period</th>\n",
       "      <th>inflation</th>\n",
       "    </tr>\n",
       "  </thead>\n",
       "  <tbody>\n",
       "    <tr>\n",
       "      <th>0</th>\n",
       "      <td>2025-02-28</td>\n",
       "      <td>-0.53</td>\n",
       "    </tr>\n",
       "    <tr>\n",
       "      <th>1</th>\n",
       "      <td>2025-01-31</td>\n",
       "      <td>-0.14</td>\n",
       "    </tr>\n",
       "    <tr>\n",
       "      <th>2</th>\n",
       "      <td>2024-12-31</td>\n",
       "      <td>5.95</td>\n",
       "    </tr>\n",
       "    <tr>\n",
       "      <th>3</th>\n",
       "      <td>2024-11-30</td>\n",
       "      <td>5.98</td>\n",
       "    </tr>\n",
       "    <tr>\n",
       "      <th>4</th>\n",
       "      <td>2024-10-31</td>\n",
       "      <td>4.18</td>\n",
       "    </tr>\n",
       "  </tbody>\n",
       "</table>\n",
       "</div>"
      ],
      "text/plain": [
       "      period inflation\n",
       "0 2025-02-28     -0.53\n",
       "1 2025-01-31     -0.14\n",
       "2 2024-12-31      5.95\n",
       "3 2024-11-30      5.98\n",
       "4 2024-10-31      4.18"
      ]
     },
     "execution_count": 12,
     "metadata": {},
     "output_type": "execute_result"
    }
   ],
   "source": [
    "# Aqui va el preprocesamiento: infaltion\n",
    "df_inflation_raw = (\n",
    "    df_inflation\n",
    "        # Renombrar variables\n",
    "        .rename(columns = DICT_CLEAN_NAMES_INEGI)\n",
    "        \n",
    ")\n",
    "df_inflation_raw['period'] = pd.to_datetime(df_inflation_raw['period'], format='%Y/%m').dt.to_period('M').dt.to_timestamp('M')\n",
    "df_inflation_raw.head()"
   ]
  },
  {
   "cell_type": "markdown",
   "metadata": {},
   "source": [
    "and save the data in a csv file in the loccal directory data/raw/."
   ]
  },
  {
   "cell_type": "code",
   "execution_count": 13,
   "metadata": {},
   "outputs": [],
   "source": [
    "# Guarda los datos en local\n",
    "df_inflation_raw.to_csv(\"../../data/processed/inflation.csv\", index=False)\n",
    "df_mxn2usd_raw.to_csv(\"../../data/processed/tipo_de_cambio.csv\", index=False)\n",
    "df_interes_raw.to_csv(\"../../data/processed/tasa_de_interes.csv\", index=False)"
   ]
  },
  {
   "cell_type": "code",
   "execution_count": 14,
   "metadata": {
    "vscode": {
     "languageId": "shellscript"
    }
   },
   "outputs": [
    {
     "name": "stdout",
     "output_type": "stream",
     "text": [
      "Empty DataFrame\n",
      "Columns: [period, interes_rate, inflation]\n",
      "Index: []\n"
     ]
    }
   ],
   "source": [
    "# Convert period to datetime format and set to the first day of the month\n",
    "df_inflation_raw['period'] = pd.to_datetime(df_inflation_raw['period'], format='%Y-%m-%d')\n",
    "df_interes_raw['period'] = pd.to_datetime(df_interes_raw['period'])\n",
    "\n",
    "# Filter to keep only the first day of the month\n",
    "df_inflation_raw = df_inflation_raw[df_inflation_raw['period'].dt.is_month_start]\n",
    "df_interes_raw = df_interes_raw[df_interes_raw['period'].dt.is_month_start]\n",
    "\n",
    "# Merge the dataframes on the period column\n",
    "df_combined = pd.merge(df_interes_raw, df_inflation_raw, on='period', how='inner')\n",
    "\n",
    "# Convert inflation to float\n",
    "df_combined['inflation'] = df_combined['inflation'].astype(float)\n",
    "\n",
    "# Display the combined dataframe\n",
    "df_combined = df_combined.drop_duplicates(subset='period')\n",
    "print(df_combined)\n",
    "# save the result in a csv at data/raw\n",
    "df_combined.to_csv(\"../../data/processed/econ.csv\", index=False)"
   ]
  },
  {
   "cell_type": "code",
   "execution_count": 15,
   "metadata": {
    "vscode": {
     "languageId": "shellscript"
    }
   },
   "outputs": [
    {
     "data": {
      "text/html": [
       "<div>\n",
       "<style scoped>\n",
       "    .dataframe tbody tr th:only-of-type {\n",
       "        vertical-align: middle;\n",
       "    }\n",
       "\n",
       "    .dataframe tbody tr th {\n",
       "        vertical-align: top;\n",
       "    }\n",
       "\n",
       "    .dataframe thead th {\n",
       "        text-align: right;\n",
       "    }\n",
       "</style>\n",
       "<table border=\"1\" class=\"dataframe\">\n",
       "  <thead>\n",
       "    <tr style=\"text-align: right;\">\n",
       "      <th></th>\n",
       "      <th>period</th>\n",
       "      <th>interes_rate</th>\n",
       "    </tr>\n",
       "  </thead>\n",
       "  <tbody>\n",
       "    <tr>\n",
       "      <th>0</th>\n",
       "      <td>2015-01-01</td>\n",
       "      <td>3.00</td>\n",
       "    </tr>\n",
       "    <tr>\n",
       "      <th>31</th>\n",
       "      <td>2015-02-01</td>\n",
       "      <td>3.00</td>\n",
       "    </tr>\n",
       "    <tr>\n",
       "      <th>59</th>\n",
       "      <td>2015-03-01</td>\n",
       "      <td>3.00</td>\n",
       "    </tr>\n",
       "    <tr>\n",
       "      <th>90</th>\n",
       "      <td>2015-04-01</td>\n",
       "      <td>3.00</td>\n",
       "    </tr>\n",
       "    <tr>\n",
       "      <th>120</th>\n",
       "      <td>2015-05-01</td>\n",
       "      <td>3.00</td>\n",
       "    </tr>\n",
       "    <tr>\n",
       "      <th>...</th>\n",
       "      <td>...</td>\n",
       "      <td>...</td>\n",
       "    </tr>\n",
       "    <tr>\n",
       "      <th>3582</th>\n",
       "      <td>2024-11-01</td>\n",
       "      <td>10.50</td>\n",
       "    </tr>\n",
       "    <tr>\n",
       "      <th>3611</th>\n",
       "      <td>2024-12-01</td>\n",
       "      <td>10.25</td>\n",
       "    </tr>\n",
       "    <tr>\n",
       "      <th>3642</th>\n",
       "      <td>2025-01-01</td>\n",
       "      <td>10.00</td>\n",
       "    </tr>\n",
       "    <tr>\n",
       "      <th>3673</th>\n",
       "      <td>2025-02-01</td>\n",
       "      <td>10.00</td>\n",
       "    </tr>\n",
       "    <tr>\n",
       "      <th>3701</th>\n",
       "      <td>2025-03-01</td>\n",
       "      <td>9.50</td>\n",
       "    </tr>\n",
       "  </tbody>\n",
       "</table>\n",
       "<p>122 rows × 2 columns</p>\n",
       "</div>"
      ],
      "text/plain": [
       "         period  interes_rate\n",
       "0    2015-01-01          3.00\n",
       "31   2015-02-01          3.00\n",
       "59   2015-03-01          3.00\n",
       "90   2015-04-01          3.00\n",
       "120  2015-05-01          3.00\n",
       "...         ...           ...\n",
       "3582 2024-11-01         10.50\n",
       "3611 2024-12-01         10.25\n",
       "3642 2025-01-01         10.00\n",
       "3673 2025-02-01         10.00\n",
       "3701 2025-03-01          9.50\n",
       "\n",
       "[122 rows x 2 columns]"
      ]
     },
     "execution_count": 15,
     "metadata": {},
     "output_type": "execute_result"
    }
   ],
   "source": [
    "df_interes_raw"
   ]
  },
  {
   "cell_type": "markdown",
   "metadata": {},
   "source": [
    "### c) Load to data lake"
   ]
  },
  {
   "cell_type": "code",
   "execution_count": null,
   "metadata": {
    "vscode": {
     "languageId": "shellscript"
    }
   },
   "outputs": [],
   "source": []
  },
  {
   "cell_type": "markdown",
   "metadata": {},
   "source": [
    "A\n",
    "* Para crear el bucket, tenemos que crear un cliente, para conectarnos al \n",
    "servicio desde Python. Para ello vamos a utilizar la libería `boto3` que es el\n",
    "Python SDK de AWS para interactuar con todos los servicios. Checa la\n",
    "[documentación de boto3 para S3](https://boto3.amazonaws.com/v1/documentation/api/latest/reference/services/s3.html#S3.Client.upload_file)\n",
    "\n",
    "* En S3 tienes que guardar cada tabla, osea cada S3, en un directorio por \n",
    "separado. Si no lo haces así vas a tener muchos problemas para utilizar otros \n",
    "servicios como el AWS Glue y Amazon Athena.\n",
    "    - Si tienes muchos archivos de ventas, no hay problema pueden estar dentro\n",
    "    de un bucket en un mismo path. Lo que no conviene es tener en el mismo\n",
    "    path ventas y precios.\n",
    "\n",
    "Ahora ejecuta y revisa con cuidado cada línea del código."
   ]
  },
  {
   "cell_type": "code",
   "execution_count": 16,
   "metadata": {},
   "outputs": [],
   "source": [
    "# Abres un cliente de S3\n",
    "import boto3\n",
    "session = boto3.Session(profile_name='arquitectura', \n",
    "                        region_name='us-east-1') ## added this line to define the region\n",
    "s3 = session.client('s3')"
   ]
  },
  {
   "cell_type": "code",
   "execution_count": 17,
   "metadata": {},
   "outputs": [
    {
     "data": {
      "text/plain": [
       "{'ResponseMetadata': {'RequestId': 'WWZH9T4SZY8S3Q6J',\n",
       "  'HostId': 'Nb9f83REDUfgdxSzR4Amd7YY0XUpPRamyrS+IAEpPPv8Mt/yNsLZGjTZqqmW0Gg78UmOXeiyV6T2XPwUl5d9/w==',\n",
       "  'HTTPStatusCode': 200,\n",
       "  'HTTPHeaders': {'x-amz-id-2': 'Nb9f83REDUfgdxSzR4Amd7YY0XUpPRamyrS+IAEpPPv8Mt/yNsLZGjTZqqmW0Gg78UmOXeiyV6T2XPwUl5d9/w==',\n",
       "   'x-amz-request-id': 'WWZH9T4SZY8S3Q6J',\n",
       "   'date': 'Thu, 20 Mar 2025 03:15:57 GMT',\n",
       "   'location': '/itam-analytics-thmrudolf',\n",
       "   'content-length': '0',\n",
       "   'server': 'AmazonS3'},\n",
       "  'RetryAttempts': 0},\n",
       " 'Location': '/itam-analytics-thmrudolf'}"
      ]
     },
     "execution_count": 17,
     "metadata": {},
     "output_type": "execute_result"
    }
   ],
   "source": [
    "# Crea un nuevo Bucket\n",
    "# OJO: Aqui cambia el nombre del bucket, utiliza tu nombre como sufijo, para\n",
    "# que sea único en el mundo, si no te va a salir error. Si tuviste éxito, el\n",
    "# API de boto3 te va a regresar un HTTPStatusCode de 200. Eso es éxito.\n",
    "BUCKET_NAME = \"itam-analytics-thmrudolf\"\n",
    "s3.create_bucket(Bucket=BUCKET_NAME)"
   ]
  },
  {
   "cell_type": "markdown",
   "metadata": {},
   "source": [
    "Now, all three csv files are in the S3 bucket. (**comment**: a new bucket is created for this task)\n",
    "\n",
    "Doumentation for futher use [S3 upload a file from boto3](https://boto3.amazonaws.com/v1/documentation/api/latest/reference/services/s3.html#S3.Client.upload_file)."
   ]
  },
  {
   "cell_type": "code",
   "execution_count": 18,
   "metadata": {},
   "outputs": [],
   "source": [
    "# Upload los dos archivos a S3 (raw)\n",
    "s3.upload_file(Filename=\"../../data/raw/inflation.csv\", Bucket=BUCKET_NAME, Key=\"hw06/raw/inflation/inflacion.csv\")\n",
    "s3.upload_file(Filename=\"../../data/raw/tipo_de_cambio.csv\", Bucket=BUCKET_NAME, Key=\"hw06/raw/exchange/tipo_de_cambio.csv\")\n",
    "s3.upload_file(Filename=\"../../data/raw/tasa_de_interes.csv\", Bucket=BUCKET_NAME, Key=\"hw06/raw/interes_rate/tasa_de_interes.csv\")\n",
    "\n",
    "# Upload los dos archivos a S3 (processed)\n",
    "s3.upload_file(Filename=\"../../data/processed/inflation.csv\", Bucket=BUCKET_NAME, Key=\"hw06/processed/inflation/inflacion.csv\")\n",
    "s3.upload_file(Filename=\"../../data/processed/tipo_de_cambio.csv\", Bucket=BUCKET_NAME, Key=\"hw06/processed/exchange/tipo_de_cambio.csv\")\n",
    "s3.upload_file(Filename=\"../../data/processed/tasa_de_interes.csv\", Bucket=BUCKET_NAME, Key=\"hw06/processed/interes_rate/tasa_de_interes.csv\")"
   ]
  },
  {
   "cell_type": "code",
   "execution_count": 19,
   "metadata": {},
   "outputs": [],
   "source": [
    "## Upload los dos archivos a S3 (combined \"econ\")\n",
    "s3.upload_file(Filename=\"../../data/processed/econ.csv\", Bucket=BUCKET_NAME, Key=\"econ/processed/econ/econ.csv\")"
   ]
  },
  {
   "attachments": {},
   "cell_type": "markdown",
   "metadata": {},
   "source": [
    "# ELT\n",
    "\n",
    "Ahora que ya subimos los datos al data lake, podemos utilizarlos para hacer\n",
    "nuestros análisis o aplicaciones.\n",
    "\n",
    "En esta sección vamos a utilizar Amazon Athena para hacer transformaciones a \n",
    "nuestros datos crudos y cargarlos en nuestro ambiente de Python local para \n",
    "hacer los análisis que necesitemos.\n",
    "\n",
    "Para poder utilizar Amazon Athena, por primera vez, tenemos que configurar un\n",
    "bucket en Amazon S3 donde se puedan guardar nuestras queries. Esto lo podemos\n",
    "hacer siguiendo estas instrucciones:\n",
    "\n",
    "* [Specifying a query result location using the Athena console](https://docs.aws.amazon.com/athena/latest/ug/querying.html#query-results-specify-location-console)\n",
    "\n",
    "Este paso lo tenemos que hacer una sola vez.\n",
    "\n",
    "Una vez configurado, para usar nuestros datos en Amazon Athena, lo que tenemos\n",
    "que hacer es crear una base de datos en AWS Glue Catalog, que lo que hace es\n",
    "llevar un catálogo de todas las tablas que tenemos en data lake, y que podemos\n",
    "utilizar rápidamente con otros servicios en la nube.\n",
    "\n",
    "Después solo tenemos que crear el schema de las tablas y agregarlas a la base \n",
    "de datos que creamos. Una vez hecho esto podemos realizar las operaciones en\n",
    "SQL sobre nuestros datos.\n"
   ]
  },
  {
   "attachments": {},
   "cell_type": "markdown",
   "metadata": {},
   "source": [
    "## Configuración \n",
    "\n",
    "Sigamos paso a paso cada uno de los pasos descritos anteriormente.\n",
    "\n",
    "### Crear una base de datos en el Glue Catalog\n",
    "\n",
    "Para crear la base de datos en AWS Glue Catalog, primero tenemos que llamar\n",
    "al cliente de Glue.\n",
    "\n",
    "Aqui te dejo la [documentación](https://boto3.amazonaws.com/v1/documentation/api/latest/reference/services/glue.html) para que veas que funciones puedes llamar de \n",
    "este servicio."
   ]
  },
  {
   "cell_type": "code",
   "execution_count": 20,
   "metadata": {},
   "outputs": [],
   "source": [
    "from botocore.config import Config\n",
    "my_config = Config(\n",
    "    region_name = 'us-east-1'\n",
    ")\n",
    "\n",
    "glue = boto3.client('glue', config=my_config)"
   ]
  },
  {
   "attachments": {},
   "cell_type": "markdown",
   "metadata": {},
   "source": [
    "Vamos a llamar la función `create_database`, que necesita un nombre\n",
    "y una descripción."
   ]
  },
  {
   "cell_type": "code",
   "execution_count": 22,
   "metadata": {},
   "outputs": [
    {
     "ename": "AlreadyExistsException",
     "evalue": "An error occurred (AlreadyExistsException) when calling the CreateDatabase operation: Database already exists.",
     "output_type": "error",
     "traceback": [
      "\u001b[31m---------------------------------------------------------------------------\u001b[39m",
      "\u001b[31mAlreadyExistsException\u001b[39m                    Traceback (most recent call last)",
      "\u001b[36mCell\u001b[39m\u001b[36m \u001b[39m\u001b[32mIn[22]\u001b[39m\u001b[32m, line 1\u001b[39m\n\u001b[32m----> \u001b[39m\u001b[32m1\u001b[39m response = \u001b[43mglue\u001b[49m\u001b[43m.\u001b[49m\u001b[43mcreate_database\u001b[49m\u001b[43m(\u001b[49m\n\u001b[32m      2\u001b[39m \u001b[43m    \u001b[49m\u001b[43mDatabaseInput\u001b[49m\u001b[43m=\u001b[49m\u001b[43m{\u001b[49m\n\u001b[32m      3\u001b[39m \u001b[43m        \u001b[49m\u001b[33;43m'\u001b[39;49m\u001b[33;43mName\u001b[39;49m\u001b[33;43m'\u001b[39;49m\u001b[43m:\u001b[49m\u001b[43m \u001b[49m\u001b[33;43m'\u001b[39;49m\u001b[33;43mhw06\u001b[39;49m\u001b[33;43m'\u001b[39;49m\u001b[43m,\u001b[49m\n\u001b[32m      4\u001b[39m \u001b[43m        \u001b[49m\u001b[33;43m'\u001b[39;49m\u001b[33;43mDescription\u001b[39;49m\u001b[33;43m'\u001b[39;49m\u001b[43m:\u001b[49m\u001b[43m \u001b[49m\u001b[33;43m'\u001b[39;49m\u001b[33;43mContains data about exchange rate mxn-usd, infaltion and interes rate obtained form Banco de Mexico and INEGI.\u001b[39;49m\u001b[33;43m'\u001b[39;49m\u001b[43m,\u001b[49m\n\u001b[32m      5\u001b[39m \u001b[43m    \u001b[49m\u001b[43m}\u001b[49m\u001b[43m,\u001b[49m\n\u001b[32m      6\u001b[39m \u001b[43m)\u001b[49m\n\u001b[32m      7\u001b[39m response\n",
      "\u001b[36mFile \u001b[39m\u001b[32m/mnt/c/Users/thmru/github/2025_ArquitecturaDeProdDeDatos/adpd_HW6/venv_adgdhw06/lib/python3.11/site-packages/botocore/client.py:570\u001b[39m, in \u001b[36mClientCreator._create_api_method.<locals>._api_call\u001b[39m\u001b[34m(self, *args, **kwargs)\u001b[39m\n\u001b[32m    566\u001b[39m     \u001b[38;5;28;01mraise\u001b[39;00m \u001b[38;5;167;01mTypeError\u001b[39;00m(\n\u001b[32m    567\u001b[39m         \u001b[33mf\u001b[39m\u001b[33m\"\u001b[39m\u001b[38;5;132;01m{\u001b[39;00mpy_operation_name\u001b[38;5;132;01m}\u001b[39;00m\u001b[33m() only accepts keyword arguments.\u001b[39m\u001b[33m\"\u001b[39m\n\u001b[32m    568\u001b[39m     )\n\u001b[32m    569\u001b[39m \u001b[38;5;66;03m# The \"self\" in this scope is referring to the BaseClient.\u001b[39;00m\n\u001b[32m--> \u001b[39m\u001b[32m570\u001b[39m \u001b[38;5;28;01mreturn\u001b[39;00m \u001b[38;5;28;43mself\u001b[39;49m\u001b[43m.\u001b[49m\u001b[43m_make_api_call\u001b[49m\u001b[43m(\u001b[49m\u001b[43moperation_name\u001b[49m\u001b[43m,\u001b[49m\u001b[43m \u001b[49m\u001b[43mkwargs\u001b[49m\u001b[43m)\u001b[49m\n",
      "\u001b[36mFile \u001b[39m\u001b[32m/mnt/c/Users/thmru/github/2025_ArquitecturaDeProdDeDatos/adpd_HW6/venv_adgdhw06/lib/python3.11/site-packages/botocore/context.py:124\u001b[39m, in \u001b[36mwith_current_context.<locals>.decorator.<locals>.wrapper\u001b[39m\u001b[34m(*args, **kwargs)\u001b[39m\n\u001b[32m    122\u001b[39m \u001b[38;5;28;01mif\u001b[39;00m hook:\n\u001b[32m    123\u001b[39m     hook()\n\u001b[32m--> \u001b[39m\u001b[32m124\u001b[39m \u001b[38;5;28;01mreturn\u001b[39;00m \u001b[43mfunc\u001b[49m\u001b[43m(\u001b[49m\u001b[43m*\u001b[49m\u001b[43margs\u001b[49m\u001b[43m,\u001b[49m\u001b[43m \u001b[49m\u001b[43m*\u001b[49m\u001b[43m*\u001b[49m\u001b[43mkwargs\u001b[49m\u001b[43m)\u001b[49m\n",
      "\u001b[36mFile \u001b[39m\u001b[32m/mnt/c/Users/thmru/github/2025_ArquitecturaDeProdDeDatos/adpd_HW6/venv_adgdhw06/lib/python3.11/site-packages/botocore/client.py:1031\u001b[39m, in \u001b[36mBaseClient._make_api_call\u001b[39m\u001b[34m(self, operation_name, api_params)\u001b[39m\n\u001b[32m   1027\u001b[39m     error_code = error_info.get(\u001b[33m\"\u001b[39m\u001b[33mQueryErrorCode\u001b[39m\u001b[33m\"\u001b[39m) \u001b[38;5;129;01mor\u001b[39;00m error_info.get(\n\u001b[32m   1028\u001b[39m         \u001b[33m\"\u001b[39m\u001b[33mCode\u001b[39m\u001b[33m\"\u001b[39m\n\u001b[32m   1029\u001b[39m     )\n\u001b[32m   1030\u001b[39m     error_class = \u001b[38;5;28mself\u001b[39m.exceptions.from_code(error_code)\n\u001b[32m-> \u001b[39m\u001b[32m1031\u001b[39m     \u001b[38;5;28;01mraise\u001b[39;00m error_class(parsed_response, operation_name)\n\u001b[32m   1032\u001b[39m \u001b[38;5;28;01melse\u001b[39;00m:\n\u001b[32m   1033\u001b[39m     \u001b[38;5;28;01mreturn\u001b[39;00m parsed_response\n",
      "\u001b[31mAlreadyExistsException\u001b[39m: An error occurred (AlreadyExistsException) when calling the CreateDatabase operation: Database already exists."
     ]
    }
   ],
   "source": [
    "response = glue.create_database(\n",
    "    DatabaseInput={\n",
    "        'Name': 'hw06',\n",
    "        'Description': 'Contains data about exchange rate mxn-usd, infaltion and interes rate obtained form Banco de Mexico and INEGI.',\n",
    "    },\n",
    ")\n",
    "response"
   ]
  },
  {
   "cell_type": "markdown",
   "metadata": {},
   "source": [
    "**NOTA**: Si no puedes correr esta línea porque no encuentras la sesión las credenciales, entonces entra a la consola de AWS, y crea la database desde el servicio de Glue.\n",
    "\n",
    "Los pasos que tienes que seguir son:\n",
    "\n",
    "* Entra a tu cuenta de AWS\n",
    "* Navega al servicio de Glue.\n",
    "* En el menú izquierdo buscao catalog, y luego databases.\n",
    "* En databases, crea una nueva base de datos.\n",
    "* Ingresa el `name` y el `description`, toma como referncia los valores que tienes en la celda de arriba.\n"
   ]
  },
  {
   "attachments": {},
   "cell_type": "markdown",
   "metadata": {},
   "source": [
    "### Configurar Athena"
   ]
  },
  {
   "attachments": {},
   "cell_type": "markdown",
   "metadata": {},
   "source": [
    "Necesitamos crear un bucket al que podamos apuntar nuestras queries en \n",
    "Amazon Athena. Recuerda poner un nombre único a tu bucket. En este caso puedes\n",
    "poner `arquitectura-athena-queries-MINOMBRE`"
   ]
  },
  {
   "cell_type": "code",
   "execution_count": null,
   "metadata": {},
   "outputs": [
    {
     "data": {
      "text/plain": [
       "{'ResponseMetadata': {'RequestId': 'A5AJADP81SQEQFC1',\n",
       "  'HostId': 'MTClDEQ+qxPYz/rkMRv+Q+/fiVz5d+HupfSFJWYu1bqd3tLCHLG6o0BcD0YzeVu31YEvTb6awxg=',\n",
       "  'HTTPStatusCode': 200,\n",
       "  'HTTPHeaders': {'x-amz-id-2': 'MTClDEQ+qxPYz/rkMRv+Q+/fiVz5d+HupfSFJWYu1bqd3tLCHLG6o0BcD0YzeVu31YEvTb6awxg=',\n",
       "   'x-amz-request-id': 'A5AJADP81SQEQFC1',\n",
       "   'date': 'Thu, 20 Mar 2025 03:03:09 GMT',\n",
       "   'location': '/arquitectura-athena-queries-thmrrudolf',\n",
       "   'content-length': '0',\n",
       "   'server': 'AmazonS3'},\n",
       "  'RetryAttempts': 0},\n",
       " 'Location': '/arquitectura-athena-queries-thmrrudolf'}"
      ]
     },
     "execution_count": 25,
     "metadata": {},
     "output_type": "execute_result"
    }
   ],
   "source": [
    "s3.create_bucket(Bucket=\"arquitectura-athena-queries-thmrrudolf\")"
   ]
  }
 ],
 "metadata": {
  "kernelspec": {
   "display_name": "venv_adgdhw06",
   "language": "python",
   "name": "python3"
  },
  "language_info": {
   "codemirror_mode": {
    "name": "ipython",
    "version": 3
   },
   "file_extension": ".py",
   "mimetype": "text/x-python",
   "name": "python",
   "nbconvert_exporter": "python",
   "pygments_lexer": "ipython3",
   "version": "3.11.11"
  }
 },
 "nbformat": 4,
 "nbformat_minor": 4
}
